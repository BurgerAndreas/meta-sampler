{
 "cells": [
  {
   "cell_type": "code",
   "execution_count": 87,
   "metadata": {},
   "outputs": [],
   "source": [
    "import copy\n",
    "import io\n",
    "import numpy as np\n",
    "import py3Dmol\n",
    "from Bio.PDB import PDBParser, PDBIO\n",
    "import numpy as np\n",
    "import time\n",
    "import plotly.graph_objects as go\n",
    "import os\n",
    "from tqdm import tqdm\n",
    "\n",
    "import torch\n",
    "import nglview as nv\n",
    "import py3Dmol\n",
    "from openmm.app import PDBFile, ForceField, Simulation, NoCutoff\n",
    "from openmm import Context, VerletIntegrator, Platform\n",
    "from openmm.unit import nanometer, kilojoule_per_mole, picoseconds, Quantity\n",
    "import numpy as np\n",
    "from Bio.PDB import PDBParser\n",
    "import plotly.graph_objects as go"
   ]
  },
  {
   "cell_type": "code",
   "execution_count": 88,
   "metadata": {},
   "outputs": [],
   "source": [
    "# ---------- Utility Functions ----------\n",
    "\n",
    "def calc_dihedral(p0, p1, p2, p3):\n",
    "    \"\"\"\n",
    "    Calculate the dihedral angle (in degrees) defined by four points.\n",
    "    \"\"\"\n",
    "    b0 = p0 - p1\n",
    "    b1 = p2 - p1\n",
    "    b2 = p3 - p2\n",
    "\n",
    "    b1 /= np.linalg.norm(b1)\n",
    "    v = b0 - np.dot(b0, b1) * b1\n",
    "    w = b2 - np.dot(b2, b1) * b1\n",
    "\n",
    "    x = np.dot(v, w)\n",
    "    y = np.dot(np.cross(b1, v), w)\n",
    "    return np.degrees(np.arctan2(y, x))\n",
    "\n",
    "def rotation_matrix(axis, theta):\n",
    "    \"\"\"\n",
    "    Return a rotation matrix that rotates by theta (in radians) about the given axis.\n",
    "    \"\"\"\n",
    "    axis = axis / np.linalg.norm(axis)\n",
    "    cos_t = np.cos(theta)\n",
    "    sin_t = np.sin(theta)\n",
    "    one_minus_cos = 1 - cos_t\n",
    "    x, y, z = axis\n",
    "    R = np.array([\n",
    "        [cos_t + x * x * one_minus_cos,\n",
    "         x * y * one_minus_cos - z * sin_t,\n",
    "         x * z * one_minus_cos + y * sin_t],\n",
    "        [y * x * one_minus_cos + z * sin_t,\n",
    "         cos_t + y * y * one_minus_cos,\n",
    "         y * z * one_minus_cos - x * sin_t],\n",
    "        [z * x * one_minus_cos - y * sin_t,\n",
    "         z * y * one_minus_cos + x * sin_t,\n",
    "         cos_t + z * z * one_minus_cos]\n",
    "    ])\n",
    "    return R\n",
    "\n",
    "# ---------- Dihedral Adjustment Functions ----------\n",
    "\n",
    "def set_phi_dihedral(structure, new_phi):\n",
    "    \"\"\"\n",
    "    Adjust the φ (phi) dihedral for residue 2 (ALA) in chain X.\n",
    "    \n",
    "    φ is defined by:\n",
    "      C (residue 1, ACE) - N (residue 2, ALA) - CA (residue 2, ALA) - C (residue 2, ALA)\n",
    "    \n",
    "    Rotation is applied about the N–CA bond.\n",
    "    We hold atoms upstream (including the N) fixed and rotate all atoms attached\n",
    "    to CA that are \"downstream\": in residue 2 (all except N and CA) and in residue 3.\n",
    "    \"\"\"\n",
    "    model = structure[0]\n",
    "    chain = model[\"X\"]\n",
    "\n",
    "    # Identify the four atoms that define φ.\n",
    "    atom_ids = [\n",
    "        (\"X\", 1, \"C\"),   # C from ACE (residue 1)\n",
    "        (\"X\", 2, \"N\"),   # N from ALA (residue 2)\n",
    "        (\"X\", 2, \"CA\"),  # CA from ALA (residue 2)\n",
    "        (\"X\", 2, \"C\")    # C from ALA (residue 2)\n",
    "    ]\n",
    "    atoms = []\n",
    "    for ch, resnum, atom_name in atom_ids:\n",
    "        atoms.append(model[ch][resnum][atom_name])\n",
    "    p0, p1, p2, p3 = [atom.get_coord() for atom in atoms]\n",
    "    \n",
    "    print(f\"indices for phi: {atom_ids}\")\n",
    "\n",
    "    current_phi = calc_dihedral(p0, p1, p2, p3)\n",
    "    delta = np.radians(new_phi - current_phi)\n",
    "    print(f\"Current φ: {current_phi:.2f}°; rotating by {np.degrees(delta):.2f}° to {new_phi:.2f}°\")\n",
    "\n",
    "    # Rotation axis is the N–CA bond.\n",
    "    axis = p2 - p1\n",
    "    axis /= np.linalg.norm(axis)\n",
    "    R = rotation_matrix(axis, delta)\n",
    "    pivot = p2  # Use CA as the pivot.\n",
    "\n",
    "    # Define moving atoms:\n",
    "    # In residue 2 (ALA): all atoms except \"N\" and \"CA\"\n",
    "    # In residue 3 (NME): all atoms.\n",
    "    moving_atoms = []\n",
    "    res2 = chain[2]\n",
    "    for atom in res2:\n",
    "        if atom.get_id() not in [\"N\", \"CA\"]:\n",
    "            moving_atoms.append(atom)\n",
    "    if 3 in chain:\n",
    "        res3 = chain[3]\n",
    "        for atom in res3:\n",
    "            moving_atoms.append(atom)\n",
    "\n",
    "    # Apply rotation to moving atoms.\n",
    "    for atom in moving_atoms:\n",
    "        pos = atom.get_coord() - pivot\n",
    "        new_pos = np.dot(R, pos) + pivot\n",
    "        atom.set_coord(new_pos)\n",
    "\n",
    "def set_psi_dihedral(structure, new_psi):\n",
    "    \"\"\"\n",
    "    Adjust the ψ (psi) dihedral for residue 2 (ALA) in chain X.\n",
    "    \n",
    "    ψ is defined by:\n",
    "      N (residue 2, ALA) - CA (residue 2, ALA) - C (residue 2, ALA) - N (residue 3, NME)\n",
    "    \n",
    "    Rotation is applied about the CA–C bond.\n",
    "    We hold CA and C fixed and rotate all atoms attached to C that are \"downstream\".\n",
    "    \"\"\"\n",
    "    model = structure[0]\n",
    "    chain = model[\"X\"]\n",
    "\n",
    "    atom_ids = [\n",
    "        (\"X\", 2, \"N\"),    # N from ALA (residue 2)\n",
    "        (\"X\", 2, \"CA\"),   # CA from ALA (residue 2)\n",
    "        (\"X\", 2, \"C\"),    # C from ALA (residue 2)\n",
    "        (\"X\", 3, \"N\")     # N from NME (residue 3)\n",
    "    ]\n",
    "    atoms = []\n",
    "    for ch, resnum, atom_name in atom_ids:\n",
    "        atoms.append(model[ch][resnum][atom_name])\n",
    "    p0, p1, p2, p3 = [atom.get_coord() for atom in atoms]\n",
    "    \n",
    "    print(f\"indices for psi: {atom_ids}\")\n",
    "    \n",
    "    current_psi = calc_dihedral(p0, p1, p2, p3)\n",
    "    delta = np.radians(new_psi - current_psi)\n",
    "    print(f\"Current ψ: {current_psi:.2f}°; rotating by {np.degrees(delta):.2f}° to {new_psi:.2f}°\")\n",
    "\n",
    "    # Rotation axis is the CA–C bond.\n",
    "    axis = p2 - p1  # p1 = CA, p2 = C.\n",
    "    axis /= np.linalg.norm(axis)\n",
    "    R = rotation_matrix(axis, delta)\n",
    "    pivot = p2  # Use C as the pivot.\n",
    "\n",
    "    # Define moving atoms:\n",
    "    # In residue 2 (ALA): all atoms except \"N\", \"CA\", and \"C\"\n",
    "    # In residue 3 (NME): all atoms.\n",
    "    moving_atoms = []\n",
    "    res2 = chain[2]\n",
    "    for atom in res2:\n",
    "        if atom.get_id() not in [\"N\", \"CA\", \"C\"]:\n",
    "            moving_atoms.append(atom)\n",
    "    if 3 in chain:\n",
    "        res3 = chain[3]\n",
    "        for atom in res3:\n",
    "            moving_atoms.append(atom)\n",
    "\n",
    "    # Apply the rotation.\n",
    "    for atom in moving_atoms:\n",
    "        pos = atom.get_coord() - pivot\n",
    "        new_pos = np.dot(R, pos) + pivot\n",
    "        atom.set_coord(new_pos)\n",
    "\n"
   ]
  },
  {
   "cell_type": "code",
   "execution_count": 89,
   "metadata": {},
   "outputs": [
    {
     "data": {
      "application/vnd.plotly.v1+json": {
       "config": {
        "plotlyServerURL": "https://plot.ly"
       },
       "data": [
        {
         "hoverinfo": "text",
         "marker": {
          "color": [
           "lightgray",
           "black",
           "lightgray",
           "lightgray",
           "black",
           "red",
           "blue",
           "lightgray",
           "black",
           "lightgray",
           "black",
           "lightgray",
           "lightgray",
           "lightgray",
           "black",
           "red",
           "blue",
           "lightgray",
           "black",
           "lightgray",
           "lightgray",
           "lightgray"
          ],
          "opacity": 0.8,
          "size": 10
         },
         "mode": "markers",
         "text": [
          "Atom 0: HH31 from ACE (residue 1)",
          "Atom 1: CH3 from ACE (residue 1)",
          "Atom 2: HH32 from ACE (residue 1)",
          "Atom 3: HH33 from ACE (residue 1)",
          "Atom 4: C from ACE (residue 1)",
          "Atom 5: O from ACE (residue 1)",
          "Atom 6: N from ALA (residue 2)",
          "Atom 7: H from ALA (residue 2)",
          "Atom 8: CA from ALA (residue 2)",
          "Atom 9: HA from ALA (residue 2)",
          "Atom 10: CB from ALA (residue 2)",
          "Atom 11: HB1 from ALA (residue 2)",
          "Atom 12: HB2 from ALA (residue 2)",
          "Atom 13: HB3 from ALA (residue 2)",
          "Atom 14: C from ALA (residue 2)",
          "Atom 15: O from ALA (residue 2)",
          "Atom 16: N from NME (residue 3)",
          "Atom 17: H from NME (residue 3)",
          "Atom 18: CH3 from NME (residue 3)",
          "Atom 19: HH31 from NME (residue 3)",
          "Atom 20: HH32 from NME (residue 3)",
          "Atom 21: HH33 from NME (residue 3)"
         ],
         "type": "scatter3d",
         "x": [
          3.2249999046325684,
          3.7200000286102295,
          4.0879998207092285,
          4.557000160217285,
          2.7699999809265137,
          1.600000023841858,
          3.2699999809265137,
          4.258999824523926,
          2.4800000190734863,
          1.7330000400543213,
          3.4700000286102295,
          4.218999862670898,
          2.921999931335449,
          3.9630000591278076,
          1.7300000190734863,
          2.3399999141693115,
          0.4000000059604645,
          -0.00800000037997961,
          -0.4699999988079071,
          0.1120000034570694,
          -1.2899999618530273,
          -0.8730000257492065
         ],
         "y": [
          27.427000045776367,
          26.56999969482422,
          25.905000686645508,
          26.913999557495117,
          25.799999237060547,
          26.149999618530273,
          24.639999389648438,
          24.47100067138672,
          23.690000534057617,
          24.315000534057617,
          23.15999984741211,
          22.524999618530273,
          22.582000732421875,
          24.00200080871582,
          22.59000015258789,
          21.8799991607666,
          22.43000030517578,
          23.118000030517578,
          21.350000381469727,
          20.69300079345703,
          21.785999298095703,
          20.774999618530273
         ],
         "z": [
          2.565999984741211,
          2.109999895095825,
          2.8910000324249268,
          1.5019999742507935,
          1.2300000190734863,
          1.090000033378601,
          0.6899999976158142,
          0.8100000023841858,
          -0.1899999976158142,
          -0.6790000200271606,
          -1.2699999809265137,
          -0.796999990940094,
          -2.0139999389648438,
          -1.75600004196167,
          0.49000000953674316,
          1.2799999713897705,
          0.20999999344348907,
          -0.40700000524520874,
          0.7300000190734863,
          1.3760000467300415,
          1.2999999523162842,
          -0.10300000011920929
         ]
        },
        {
         "hoverinfo": "none",
         "line": {
          "color": "gray",
          "width": 2
         },
         "mode": "lines",
         "type": "scatter3d",
         "x": [
          3.2249999046325684,
          3.7200000286102295
         ],
         "y": [
          27.427000045776367,
          26.56999969482422
         ],
         "z": [
          2.565999984741211,
          2.109999895095825
         ]
        },
        {
         "hoverinfo": "none",
         "line": {
          "color": "gray",
          "width": 2
         },
         "mode": "lines",
         "type": "scatter3d",
         "x": [
          3.7200000286102295,
          4.0879998207092285
         ],
         "y": [
          26.56999969482422,
          25.905000686645508
         ],
         "z": [
          2.109999895095825,
          2.8910000324249268
         ]
        },
        {
         "hoverinfo": "none",
         "line": {
          "color": "gray",
          "width": 2
         },
         "mode": "lines",
         "type": "scatter3d",
         "x": [
          3.7200000286102295,
          4.557000160217285
         ],
         "y": [
          26.56999969482422,
          26.913999557495117
         ],
         "z": [
          2.109999895095825,
          1.5019999742507935
         ]
        },
        {
         "hoverinfo": "none",
         "line": {
          "color": "gray",
          "width": 2
         },
         "mode": "lines",
         "type": "scatter3d",
         "x": [
          3.7200000286102295,
          2.7699999809265137
         ],
         "y": [
          26.56999969482422,
          25.799999237060547
         ],
         "z": [
          2.109999895095825,
          1.2300000190734863
         ]
        },
        {
         "hoverinfo": "none",
         "line": {
          "color": "gray",
          "width": 2
         },
         "mode": "lines",
         "type": "scatter3d",
         "x": [
          2.7699999809265137,
          1.600000023841858
         ],
         "y": [
          25.799999237060547,
          26.149999618530273
         ],
         "z": [
          1.2300000190734863,
          1.090000033378601
         ]
        },
        {
         "hoverinfo": "none",
         "line": {
          "color": "gray",
          "width": 2
         },
         "mode": "lines",
         "type": "scatter3d",
         "x": [
          2.7699999809265137,
          3.2699999809265137
         ],
         "y": [
          25.799999237060547,
          24.639999389648438
         ],
         "z": [
          1.2300000190734863,
          0.6899999976158142
         ]
        },
        {
         "hoverinfo": "none",
         "line": {
          "color": "gray",
          "width": 2
         },
         "mode": "lines",
         "type": "scatter3d",
         "x": [
          3.2699999809265137,
          4.258999824523926
         ],
         "y": [
          24.639999389648438,
          24.47100067138672
         ],
         "z": [
          0.6899999976158142,
          0.8100000023841858
         ]
        },
        {
         "hoverinfo": "none",
         "line": {
          "color": "gray",
          "width": 2
         },
         "mode": "lines",
         "type": "scatter3d",
         "x": [
          3.2699999809265137,
          2.4800000190734863
         ],
         "y": [
          24.639999389648438,
          23.690000534057617
         ],
         "z": [
          0.6899999976158142,
          -0.1899999976158142
         ]
        },
        {
         "hoverinfo": "none",
         "line": {
          "color": "gray",
          "width": 2
         },
         "mode": "lines",
         "type": "scatter3d",
         "x": [
          2.4800000190734863,
          1.7330000400543213
         ],
         "y": [
          23.690000534057617,
          24.315000534057617
         ],
         "z": [
          -0.1899999976158142,
          -0.6790000200271606
         ]
        },
        {
         "hoverinfo": "none",
         "line": {
          "color": "gray",
          "width": 2
         },
         "mode": "lines",
         "type": "scatter3d",
         "x": [
          2.4800000190734863,
          3.4700000286102295
         ],
         "y": [
          23.690000534057617,
          23.15999984741211
         ],
         "z": [
          -0.1899999976158142,
          -1.2699999809265137
         ]
        },
        {
         "hoverinfo": "none",
         "line": {
          "color": "gray",
          "width": 2
         },
         "mode": "lines",
         "type": "scatter3d",
         "x": [
          2.4800000190734863,
          1.7300000190734863
         ],
         "y": [
          23.690000534057617,
          22.59000015258789
         ],
         "z": [
          -0.1899999976158142,
          0.49000000953674316
         ]
        },
        {
         "hoverinfo": "none",
         "line": {
          "color": "gray",
          "width": 2
         },
         "mode": "lines",
         "type": "scatter3d",
         "x": [
          3.4700000286102295,
          4.218999862670898
         ],
         "y": [
          23.15999984741211,
          22.524999618530273
         ],
         "z": [
          -1.2699999809265137,
          -0.796999990940094
         ]
        },
        {
         "hoverinfo": "none",
         "line": {
          "color": "gray",
          "width": 2
         },
         "mode": "lines",
         "type": "scatter3d",
         "x": [
          3.4700000286102295,
          2.921999931335449
         ],
         "y": [
          23.15999984741211,
          22.582000732421875
         ],
         "z": [
          -1.2699999809265137,
          -2.0139999389648438
         ]
        },
        {
         "hoverinfo": "none",
         "line": {
          "color": "gray",
          "width": 2
         },
         "mode": "lines",
         "type": "scatter3d",
         "x": [
          3.4700000286102295,
          3.9630000591278076
         ],
         "y": [
          23.15999984741211,
          24.00200080871582
         ],
         "z": [
          -1.2699999809265137,
          -1.75600004196167
         ]
        },
        {
         "hoverinfo": "none",
         "line": {
          "color": "gray",
          "width": 2
         },
         "mode": "lines",
         "type": "scatter3d",
         "x": [
          1.7300000190734863,
          2.3399999141693115
         ],
         "y": [
          22.59000015258789,
          21.8799991607666
         ],
         "z": [
          0.49000000953674316,
          1.2799999713897705
         ]
        },
        {
         "hoverinfo": "none",
         "line": {
          "color": "gray",
          "width": 2
         },
         "mode": "lines",
         "type": "scatter3d",
         "x": [
          1.7300000190734863,
          0.4000000059604645
         ],
         "y": [
          22.59000015258789,
          22.43000030517578
         ],
         "z": [
          0.49000000953674316,
          0.20999999344348907
         ]
        },
        {
         "hoverinfo": "none",
         "line": {
          "color": "gray",
          "width": 2
         },
         "mode": "lines",
         "type": "scatter3d",
         "x": [
          0.4000000059604645,
          -0.00800000037997961
         ],
         "y": [
          22.43000030517578,
          23.118000030517578
         ],
         "z": [
          0.20999999344348907,
          -0.40700000524520874
         ]
        },
        {
         "hoverinfo": "none",
         "line": {
          "color": "gray",
          "width": 2
         },
         "mode": "lines",
         "type": "scatter3d",
         "x": [
          0.4000000059604645,
          -0.4699999988079071
         ],
         "y": [
          22.43000030517578,
          21.350000381469727
         ],
         "z": [
          0.20999999344348907,
          0.7300000190734863
         ]
        },
        {
         "hoverinfo": "none",
         "line": {
          "color": "gray",
          "width": 2
         },
         "mode": "lines",
         "type": "scatter3d",
         "x": [
          -0.4699999988079071,
          0.1120000034570694
         ],
         "y": [
          21.350000381469727,
          20.69300079345703
         ],
         "z": [
          0.7300000190734863,
          1.3760000467300415
         ]
        },
        {
         "hoverinfo": "none",
         "line": {
          "color": "gray",
          "width": 2
         },
         "mode": "lines",
         "type": "scatter3d",
         "x": [
          -0.4699999988079071,
          -1.2899999618530273
         ],
         "y": [
          21.350000381469727,
          21.785999298095703
         ],
         "z": [
          0.7300000190734863,
          1.2999999523162842
         ]
        },
        {
         "hoverinfo": "none",
         "line": {
          "color": "gray",
          "width": 2
         },
         "mode": "lines",
         "type": "scatter3d",
         "x": [
          -0.4699999988079071,
          -0.8730000257492065
         ],
         "y": [
          21.350000381469727,
          20.774999618530273
         ],
         "z": [
          0.7300000190734863,
          -0.10300000011920929
         ]
        }
       ],
       "layout": {
        "scene": {
         "xaxis": {
          "title": {
           "text": "X (Å)"
          }
         },
         "yaxis": {
          "title": {
           "text": "Y (Å)"
          }
         },
         "zaxis": {
          "title": {
           "text": "Z (Å)"
          }
         }
        },
        "showlegend": false,
        "template": {
         "data": {
          "bar": [
           {
            "error_x": {
             "color": "#2a3f5f"
            },
            "error_y": {
             "color": "#2a3f5f"
            },
            "marker": {
             "line": {
              "color": "#E5ECF6",
              "width": 0.5
             },
             "pattern": {
              "fillmode": "overlay",
              "size": 10,
              "solidity": 0.2
             }
            },
            "type": "bar"
           }
          ],
          "barpolar": [
           {
            "marker": {
             "line": {
              "color": "#E5ECF6",
              "width": 0.5
             },
             "pattern": {
              "fillmode": "overlay",
              "size": 10,
              "solidity": 0.2
             }
            },
            "type": "barpolar"
           }
          ],
          "carpet": [
           {
            "aaxis": {
             "endlinecolor": "#2a3f5f",
             "gridcolor": "white",
             "linecolor": "white",
             "minorgridcolor": "white",
             "startlinecolor": "#2a3f5f"
            },
            "baxis": {
             "endlinecolor": "#2a3f5f",
             "gridcolor": "white",
             "linecolor": "white",
             "minorgridcolor": "white",
             "startlinecolor": "#2a3f5f"
            },
            "type": "carpet"
           }
          ],
          "choropleth": [
           {
            "colorbar": {
             "outlinewidth": 0,
             "ticks": ""
            },
            "type": "choropleth"
           }
          ],
          "contour": [
           {
            "colorbar": {
             "outlinewidth": 0,
             "ticks": ""
            },
            "colorscale": [
             [
              0,
              "#0d0887"
             ],
             [
              0.1111111111111111,
              "#46039f"
             ],
             [
              0.2222222222222222,
              "#7201a8"
             ],
             [
              0.3333333333333333,
              "#9c179e"
             ],
             [
              0.4444444444444444,
              "#bd3786"
             ],
             [
              0.5555555555555556,
              "#d8576b"
             ],
             [
              0.6666666666666666,
              "#ed7953"
             ],
             [
              0.7777777777777778,
              "#fb9f3a"
             ],
             [
              0.8888888888888888,
              "#fdca26"
             ],
             [
              1,
              "#f0f921"
             ]
            ],
            "type": "contour"
           }
          ],
          "contourcarpet": [
           {
            "colorbar": {
             "outlinewidth": 0,
             "ticks": ""
            },
            "type": "contourcarpet"
           }
          ],
          "heatmap": [
           {
            "colorbar": {
             "outlinewidth": 0,
             "ticks": ""
            },
            "colorscale": [
             [
              0,
              "#0d0887"
             ],
             [
              0.1111111111111111,
              "#46039f"
             ],
             [
              0.2222222222222222,
              "#7201a8"
             ],
             [
              0.3333333333333333,
              "#9c179e"
             ],
             [
              0.4444444444444444,
              "#bd3786"
             ],
             [
              0.5555555555555556,
              "#d8576b"
             ],
             [
              0.6666666666666666,
              "#ed7953"
             ],
             [
              0.7777777777777778,
              "#fb9f3a"
             ],
             [
              0.8888888888888888,
              "#fdca26"
             ],
             [
              1,
              "#f0f921"
             ]
            ],
            "type": "heatmap"
           }
          ],
          "heatmapgl": [
           {
            "colorbar": {
             "outlinewidth": 0,
             "ticks": ""
            },
            "colorscale": [
             [
              0,
              "#0d0887"
             ],
             [
              0.1111111111111111,
              "#46039f"
             ],
             [
              0.2222222222222222,
              "#7201a8"
             ],
             [
              0.3333333333333333,
              "#9c179e"
             ],
             [
              0.4444444444444444,
              "#bd3786"
             ],
             [
              0.5555555555555556,
              "#d8576b"
             ],
             [
              0.6666666666666666,
              "#ed7953"
             ],
             [
              0.7777777777777778,
              "#fb9f3a"
             ],
             [
              0.8888888888888888,
              "#fdca26"
             ],
             [
              1,
              "#f0f921"
             ]
            ],
            "type": "heatmapgl"
           }
          ],
          "histogram": [
           {
            "marker": {
             "pattern": {
              "fillmode": "overlay",
              "size": 10,
              "solidity": 0.2
             }
            },
            "type": "histogram"
           }
          ],
          "histogram2d": [
           {
            "colorbar": {
             "outlinewidth": 0,
             "ticks": ""
            },
            "colorscale": [
             [
              0,
              "#0d0887"
             ],
             [
              0.1111111111111111,
              "#46039f"
             ],
             [
              0.2222222222222222,
              "#7201a8"
             ],
             [
              0.3333333333333333,
              "#9c179e"
             ],
             [
              0.4444444444444444,
              "#bd3786"
             ],
             [
              0.5555555555555556,
              "#d8576b"
             ],
             [
              0.6666666666666666,
              "#ed7953"
             ],
             [
              0.7777777777777778,
              "#fb9f3a"
             ],
             [
              0.8888888888888888,
              "#fdca26"
             ],
             [
              1,
              "#f0f921"
             ]
            ],
            "type": "histogram2d"
           }
          ],
          "histogram2dcontour": [
           {
            "colorbar": {
             "outlinewidth": 0,
             "ticks": ""
            },
            "colorscale": [
             [
              0,
              "#0d0887"
             ],
             [
              0.1111111111111111,
              "#46039f"
             ],
             [
              0.2222222222222222,
              "#7201a8"
             ],
             [
              0.3333333333333333,
              "#9c179e"
             ],
             [
              0.4444444444444444,
              "#bd3786"
             ],
             [
              0.5555555555555556,
              "#d8576b"
             ],
             [
              0.6666666666666666,
              "#ed7953"
             ],
             [
              0.7777777777777778,
              "#fb9f3a"
             ],
             [
              0.8888888888888888,
              "#fdca26"
             ],
             [
              1,
              "#f0f921"
             ]
            ],
            "type": "histogram2dcontour"
           }
          ],
          "mesh3d": [
           {
            "colorbar": {
             "outlinewidth": 0,
             "ticks": ""
            },
            "type": "mesh3d"
           }
          ],
          "parcoords": [
           {
            "line": {
             "colorbar": {
              "outlinewidth": 0,
              "ticks": ""
             }
            },
            "type": "parcoords"
           }
          ],
          "pie": [
           {
            "automargin": true,
            "type": "pie"
           }
          ],
          "scatter": [
           {
            "fillpattern": {
             "fillmode": "overlay",
             "size": 10,
             "solidity": 0.2
            },
            "type": "scatter"
           }
          ],
          "scatter3d": [
           {
            "line": {
             "colorbar": {
              "outlinewidth": 0,
              "ticks": ""
             }
            },
            "marker": {
             "colorbar": {
              "outlinewidth": 0,
              "ticks": ""
             }
            },
            "type": "scatter3d"
           }
          ],
          "scattercarpet": [
           {
            "marker": {
             "colorbar": {
              "outlinewidth": 0,
              "ticks": ""
             }
            },
            "type": "scattercarpet"
           }
          ],
          "scattergeo": [
           {
            "marker": {
             "colorbar": {
              "outlinewidth": 0,
              "ticks": ""
             }
            },
            "type": "scattergeo"
           }
          ],
          "scattergl": [
           {
            "marker": {
             "colorbar": {
              "outlinewidth": 0,
              "ticks": ""
             }
            },
            "type": "scattergl"
           }
          ],
          "scattermapbox": [
           {
            "marker": {
             "colorbar": {
              "outlinewidth": 0,
              "ticks": ""
             }
            },
            "type": "scattermapbox"
           }
          ],
          "scatterpolar": [
           {
            "marker": {
             "colorbar": {
              "outlinewidth": 0,
              "ticks": ""
             }
            },
            "type": "scatterpolar"
           }
          ],
          "scatterpolargl": [
           {
            "marker": {
             "colorbar": {
              "outlinewidth": 0,
              "ticks": ""
             }
            },
            "type": "scatterpolargl"
           }
          ],
          "scatterternary": [
           {
            "marker": {
             "colorbar": {
              "outlinewidth": 0,
              "ticks": ""
             }
            },
            "type": "scatterternary"
           }
          ],
          "surface": [
           {
            "colorbar": {
             "outlinewidth": 0,
             "ticks": ""
            },
            "colorscale": [
             [
              0,
              "#0d0887"
             ],
             [
              0.1111111111111111,
              "#46039f"
             ],
             [
              0.2222222222222222,
              "#7201a8"
             ],
             [
              0.3333333333333333,
              "#9c179e"
             ],
             [
              0.4444444444444444,
              "#bd3786"
             ],
             [
              0.5555555555555556,
              "#d8576b"
             ],
             [
              0.6666666666666666,
              "#ed7953"
             ],
             [
              0.7777777777777778,
              "#fb9f3a"
             ],
             [
              0.8888888888888888,
              "#fdca26"
             ],
             [
              1,
              "#f0f921"
             ]
            ],
            "type": "surface"
           }
          ],
          "table": [
           {
            "cells": {
             "fill": {
              "color": "#EBF0F8"
             },
             "line": {
              "color": "white"
             }
            },
            "header": {
             "fill": {
              "color": "#C8D4E3"
             },
             "line": {
              "color": "white"
             }
            },
            "type": "table"
           }
          ]
         },
         "layout": {
          "annotationdefaults": {
           "arrowcolor": "#2a3f5f",
           "arrowhead": 0,
           "arrowwidth": 1
          },
          "autotypenumbers": "strict",
          "coloraxis": {
           "colorbar": {
            "outlinewidth": 0,
            "ticks": ""
           }
          },
          "colorscale": {
           "diverging": [
            [
             0,
             "#8e0152"
            ],
            [
             0.1,
             "#c51b7d"
            ],
            [
             0.2,
             "#de77ae"
            ],
            [
             0.3,
             "#f1b6da"
            ],
            [
             0.4,
             "#fde0ef"
            ],
            [
             0.5,
             "#f7f7f7"
            ],
            [
             0.6,
             "#e6f5d0"
            ],
            [
             0.7,
             "#b8e186"
            ],
            [
             0.8,
             "#7fbc41"
            ],
            [
             0.9,
             "#4d9221"
            ],
            [
             1,
             "#276419"
            ]
           ],
           "sequential": [
            [
             0,
             "#0d0887"
            ],
            [
             0.1111111111111111,
             "#46039f"
            ],
            [
             0.2222222222222222,
             "#7201a8"
            ],
            [
             0.3333333333333333,
             "#9c179e"
            ],
            [
             0.4444444444444444,
             "#bd3786"
            ],
            [
             0.5555555555555556,
             "#d8576b"
            ],
            [
             0.6666666666666666,
             "#ed7953"
            ],
            [
             0.7777777777777778,
             "#fb9f3a"
            ],
            [
             0.8888888888888888,
             "#fdca26"
            ],
            [
             1,
             "#f0f921"
            ]
           ],
           "sequentialminus": [
            [
             0,
             "#0d0887"
            ],
            [
             0.1111111111111111,
             "#46039f"
            ],
            [
             0.2222222222222222,
             "#7201a8"
            ],
            [
             0.3333333333333333,
             "#9c179e"
            ],
            [
             0.4444444444444444,
             "#bd3786"
            ],
            [
             0.5555555555555556,
             "#d8576b"
            ],
            [
             0.6666666666666666,
             "#ed7953"
            ],
            [
             0.7777777777777778,
             "#fb9f3a"
            ],
            [
             0.8888888888888888,
             "#fdca26"
            ],
            [
             1,
             "#f0f921"
            ]
           ]
          },
          "colorway": [
           "#636efa",
           "#EF553B",
           "#00cc96",
           "#ab63fa",
           "#FFA15A",
           "#19d3f3",
           "#FF6692",
           "#B6E880",
           "#FF97FF",
           "#FECB52"
          ],
          "font": {
           "color": "#2a3f5f"
          },
          "geo": {
           "bgcolor": "white",
           "lakecolor": "white",
           "landcolor": "#E5ECF6",
           "showlakes": true,
           "showland": true,
           "subunitcolor": "white"
          },
          "hoverlabel": {
           "align": "left"
          },
          "hovermode": "closest",
          "mapbox": {
           "style": "light"
          },
          "paper_bgcolor": "white",
          "plot_bgcolor": "#E5ECF6",
          "polar": {
           "angularaxis": {
            "gridcolor": "white",
            "linecolor": "white",
            "ticks": ""
           },
           "bgcolor": "#E5ECF6",
           "radialaxis": {
            "gridcolor": "white",
            "linecolor": "white",
            "ticks": ""
           }
          },
          "scene": {
           "xaxis": {
            "backgroundcolor": "#E5ECF6",
            "gridcolor": "white",
            "gridwidth": 2,
            "linecolor": "white",
            "showbackground": true,
            "ticks": "",
            "zerolinecolor": "white"
           },
           "yaxis": {
            "backgroundcolor": "#E5ECF6",
            "gridcolor": "white",
            "gridwidth": 2,
            "linecolor": "white",
            "showbackground": true,
            "ticks": "",
            "zerolinecolor": "white"
           },
           "zaxis": {
            "backgroundcolor": "#E5ECF6",
            "gridcolor": "white",
            "gridwidth": 2,
            "linecolor": "white",
            "showbackground": true,
            "ticks": "",
            "zerolinecolor": "white"
           }
          },
          "shapedefaults": {
           "line": {
            "color": "#2a3f5f"
           }
          },
          "ternary": {
           "aaxis": {
            "gridcolor": "white",
            "linecolor": "white",
            "ticks": ""
           },
           "baxis": {
            "gridcolor": "white",
            "linecolor": "white",
            "ticks": ""
           },
           "bgcolor": "#E5ECF6",
           "caxis": {
            "gridcolor": "white",
            "linecolor": "white",
            "ticks": ""
           }
          },
          "title": {
           "x": 0.05
          },
          "xaxis": {
           "automargin": true,
           "gridcolor": "white",
           "linecolor": "white",
           "ticks": "",
           "title": {
            "standoff": 15
           },
           "zerolinecolor": "white",
           "zerolinewidth": 2
          },
          "yaxis": {
           "automargin": true,
           "gridcolor": "white",
           "linecolor": "white",
           "ticks": "",
           "title": {
            "standoff": 15
           },
           "zerolinecolor": "white",
           "zerolinewidth": 2
          }
         }
        },
        "title": {
         "text": "Alanine Dipeptide Structure"
        }
       }
      },
      "text/html": [
       "<div>                            <div id=\"2fc0effa-7c55-4ad0-9d09-3ac1c6d15bc5\" class=\"plotly-graph-div\" style=\"height:525px; width:100%;\"></div>            <script type=\"text/javascript\">                require([\"plotly\"], function(Plotly) {                    window.PLOTLYENV=window.PLOTLYENV || {};                                    if (document.getElementById(\"2fc0effa-7c55-4ad0-9d09-3ac1c6d15bc5\")) {                    Plotly.newPlot(                        \"2fc0effa-7c55-4ad0-9d09-3ac1c6d15bc5\",                        [{\"hoverinfo\":\"text\",\"marker\":{\"color\":[\"lightgray\",\"black\",\"lightgray\",\"lightgray\",\"black\",\"red\",\"blue\",\"lightgray\",\"black\",\"lightgray\",\"black\",\"lightgray\",\"lightgray\",\"lightgray\",\"black\",\"red\",\"blue\",\"lightgray\",\"black\",\"lightgray\",\"lightgray\",\"lightgray\"],\"opacity\":0.8,\"size\":10},\"mode\":\"markers\",\"text\":[\"Atom 0: HH31 from ACE (residue 1)\",\"Atom 1: CH3 from ACE (residue 1)\",\"Atom 2: HH32 from ACE (residue 1)\",\"Atom 3: HH33 from ACE (residue 1)\",\"Atom 4: C from ACE (residue 1)\",\"Atom 5: O from ACE (residue 1)\",\"Atom 6: N from ALA (residue 2)\",\"Atom 7: H from ALA (residue 2)\",\"Atom 8: CA from ALA (residue 2)\",\"Atom 9: HA from ALA (residue 2)\",\"Atom 10: CB from ALA (residue 2)\",\"Atom 11: HB1 from ALA (residue 2)\",\"Atom 12: HB2 from ALA (residue 2)\",\"Atom 13: HB3 from ALA (residue 2)\",\"Atom 14: C from ALA (residue 2)\",\"Atom 15: O from ALA (residue 2)\",\"Atom 16: N from NME (residue 3)\",\"Atom 17: H from NME (residue 3)\",\"Atom 18: CH3 from NME (residue 3)\",\"Atom 19: HH31 from NME (residue 3)\",\"Atom 20: HH32 from NME (residue 3)\",\"Atom 21: HH33 from NME (residue 3)\"],\"x\":[3.2249999046325684,3.7200000286102295,4.0879998207092285,4.557000160217285,2.7699999809265137,1.600000023841858,3.2699999809265137,4.258999824523926,2.4800000190734863,1.7330000400543213,3.4700000286102295,4.218999862670898,2.921999931335449,3.9630000591278076,1.7300000190734863,2.3399999141693115,0.4000000059604645,-0.00800000037997961,-0.4699999988079071,0.1120000034570694,-1.2899999618530273,-0.8730000257492065],\"y\":[27.427000045776367,26.56999969482422,25.905000686645508,26.913999557495117,25.799999237060547,26.149999618530273,24.639999389648438,24.47100067138672,23.690000534057617,24.315000534057617,23.15999984741211,22.524999618530273,22.582000732421875,24.00200080871582,22.59000015258789,21.8799991607666,22.43000030517578,23.118000030517578,21.350000381469727,20.69300079345703,21.785999298095703,20.774999618530273],\"z\":[2.565999984741211,2.109999895095825,2.8910000324249268,1.5019999742507935,1.2300000190734863,1.090000033378601,0.6899999976158142,0.8100000023841858,-0.1899999976158142,-0.6790000200271606,-1.2699999809265137,-0.796999990940094,-2.0139999389648438,-1.75600004196167,0.49000000953674316,1.2799999713897705,0.20999999344348907,-0.40700000524520874,0.7300000190734863,1.3760000467300415,1.2999999523162842,-0.10300000011920929],\"type\":\"scatter3d\"},{\"hoverinfo\":\"none\",\"line\":{\"color\":\"gray\",\"width\":2},\"mode\":\"lines\",\"x\":[3.2249999046325684,3.7200000286102295],\"y\":[27.427000045776367,26.56999969482422],\"z\":[2.565999984741211,2.109999895095825],\"type\":\"scatter3d\"},{\"hoverinfo\":\"none\",\"line\":{\"color\":\"gray\",\"width\":2},\"mode\":\"lines\",\"x\":[3.7200000286102295,4.0879998207092285],\"y\":[26.56999969482422,25.905000686645508],\"z\":[2.109999895095825,2.8910000324249268],\"type\":\"scatter3d\"},{\"hoverinfo\":\"none\",\"line\":{\"color\":\"gray\",\"width\":2},\"mode\":\"lines\",\"x\":[3.7200000286102295,4.557000160217285],\"y\":[26.56999969482422,26.913999557495117],\"z\":[2.109999895095825,1.5019999742507935],\"type\":\"scatter3d\"},{\"hoverinfo\":\"none\",\"line\":{\"color\":\"gray\",\"width\":2},\"mode\":\"lines\",\"x\":[3.7200000286102295,2.7699999809265137],\"y\":[26.56999969482422,25.799999237060547],\"z\":[2.109999895095825,1.2300000190734863],\"type\":\"scatter3d\"},{\"hoverinfo\":\"none\",\"line\":{\"color\":\"gray\",\"width\":2},\"mode\":\"lines\",\"x\":[2.7699999809265137,1.600000023841858],\"y\":[25.799999237060547,26.149999618530273],\"z\":[1.2300000190734863,1.090000033378601],\"type\":\"scatter3d\"},{\"hoverinfo\":\"none\",\"line\":{\"color\":\"gray\",\"width\":2},\"mode\":\"lines\",\"x\":[2.7699999809265137,3.2699999809265137],\"y\":[25.799999237060547,24.639999389648438],\"z\":[1.2300000190734863,0.6899999976158142],\"type\":\"scatter3d\"},{\"hoverinfo\":\"none\",\"line\":{\"color\":\"gray\",\"width\":2},\"mode\":\"lines\",\"x\":[3.2699999809265137,4.258999824523926],\"y\":[24.639999389648438,24.47100067138672],\"z\":[0.6899999976158142,0.8100000023841858],\"type\":\"scatter3d\"},{\"hoverinfo\":\"none\",\"line\":{\"color\":\"gray\",\"width\":2},\"mode\":\"lines\",\"x\":[3.2699999809265137,2.4800000190734863],\"y\":[24.639999389648438,23.690000534057617],\"z\":[0.6899999976158142,-0.1899999976158142],\"type\":\"scatter3d\"},{\"hoverinfo\":\"none\",\"line\":{\"color\":\"gray\",\"width\":2},\"mode\":\"lines\",\"x\":[2.4800000190734863,1.7330000400543213],\"y\":[23.690000534057617,24.315000534057617],\"z\":[-0.1899999976158142,-0.6790000200271606],\"type\":\"scatter3d\"},{\"hoverinfo\":\"none\",\"line\":{\"color\":\"gray\",\"width\":2},\"mode\":\"lines\",\"x\":[2.4800000190734863,3.4700000286102295],\"y\":[23.690000534057617,23.15999984741211],\"z\":[-0.1899999976158142,-1.2699999809265137],\"type\":\"scatter3d\"},{\"hoverinfo\":\"none\",\"line\":{\"color\":\"gray\",\"width\":2},\"mode\":\"lines\",\"x\":[2.4800000190734863,1.7300000190734863],\"y\":[23.690000534057617,22.59000015258789],\"z\":[-0.1899999976158142,0.49000000953674316],\"type\":\"scatter3d\"},{\"hoverinfo\":\"none\",\"line\":{\"color\":\"gray\",\"width\":2},\"mode\":\"lines\",\"x\":[3.4700000286102295,4.218999862670898],\"y\":[23.15999984741211,22.524999618530273],\"z\":[-1.2699999809265137,-0.796999990940094],\"type\":\"scatter3d\"},{\"hoverinfo\":\"none\",\"line\":{\"color\":\"gray\",\"width\":2},\"mode\":\"lines\",\"x\":[3.4700000286102295,2.921999931335449],\"y\":[23.15999984741211,22.582000732421875],\"z\":[-1.2699999809265137,-2.0139999389648438],\"type\":\"scatter3d\"},{\"hoverinfo\":\"none\",\"line\":{\"color\":\"gray\",\"width\":2},\"mode\":\"lines\",\"x\":[3.4700000286102295,3.9630000591278076],\"y\":[23.15999984741211,24.00200080871582],\"z\":[-1.2699999809265137,-1.75600004196167],\"type\":\"scatter3d\"},{\"hoverinfo\":\"none\",\"line\":{\"color\":\"gray\",\"width\":2},\"mode\":\"lines\",\"x\":[1.7300000190734863,2.3399999141693115],\"y\":[22.59000015258789,21.8799991607666],\"z\":[0.49000000953674316,1.2799999713897705],\"type\":\"scatter3d\"},{\"hoverinfo\":\"none\",\"line\":{\"color\":\"gray\",\"width\":2},\"mode\":\"lines\",\"x\":[1.7300000190734863,0.4000000059604645],\"y\":[22.59000015258789,22.43000030517578],\"z\":[0.49000000953674316,0.20999999344348907],\"type\":\"scatter3d\"},{\"hoverinfo\":\"none\",\"line\":{\"color\":\"gray\",\"width\":2},\"mode\":\"lines\",\"x\":[0.4000000059604645,-0.00800000037997961],\"y\":[22.43000030517578,23.118000030517578],\"z\":[0.20999999344348907,-0.40700000524520874],\"type\":\"scatter3d\"},{\"hoverinfo\":\"none\",\"line\":{\"color\":\"gray\",\"width\":2},\"mode\":\"lines\",\"x\":[0.4000000059604645,-0.4699999988079071],\"y\":[22.43000030517578,21.350000381469727],\"z\":[0.20999999344348907,0.7300000190734863],\"type\":\"scatter3d\"},{\"hoverinfo\":\"none\",\"line\":{\"color\":\"gray\",\"width\":2},\"mode\":\"lines\",\"x\":[-0.4699999988079071,0.1120000034570694],\"y\":[21.350000381469727,20.69300079345703],\"z\":[0.7300000190734863,1.3760000467300415],\"type\":\"scatter3d\"},{\"hoverinfo\":\"none\",\"line\":{\"color\":\"gray\",\"width\":2},\"mode\":\"lines\",\"x\":[-0.4699999988079071,-1.2899999618530273],\"y\":[21.350000381469727,21.785999298095703],\"z\":[0.7300000190734863,1.2999999523162842],\"type\":\"scatter3d\"},{\"hoverinfo\":\"none\",\"line\":{\"color\":\"gray\",\"width\":2},\"mode\":\"lines\",\"x\":[-0.4699999988079071,-0.8730000257492065],\"y\":[21.350000381469727,20.774999618530273],\"z\":[0.7300000190734863,-0.10300000011920929],\"type\":\"scatter3d\"}],                        {\"template\":{\"data\":{\"histogram2dcontour\":[{\"type\":\"histogram2dcontour\",\"colorbar\":{\"outlinewidth\":0,\"ticks\":\"\"},\"colorscale\":[[0.0,\"#0d0887\"],[0.1111111111111111,\"#46039f\"],[0.2222222222222222,\"#7201a8\"],[0.3333333333333333,\"#9c179e\"],[0.4444444444444444,\"#bd3786\"],[0.5555555555555556,\"#d8576b\"],[0.6666666666666666,\"#ed7953\"],[0.7777777777777778,\"#fb9f3a\"],[0.8888888888888888,\"#fdca26\"],[1.0,\"#f0f921\"]]}],\"choropleth\":[{\"type\":\"choropleth\",\"colorbar\":{\"outlinewidth\":0,\"ticks\":\"\"}}],\"histogram2d\":[{\"type\":\"histogram2d\",\"colorbar\":{\"outlinewidth\":0,\"ticks\":\"\"},\"colorscale\":[[0.0,\"#0d0887\"],[0.1111111111111111,\"#46039f\"],[0.2222222222222222,\"#7201a8\"],[0.3333333333333333,\"#9c179e\"],[0.4444444444444444,\"#bd3786\"],[0.5555555555555556,\"#d8576b\"],[0.6666666666666666,\"#ed7953\"],[0.7777777777777778,\"#fb9f3a\"],[0.8888888888888888,\"#fdca26\"],[1.0,\"#f0f921\"]]}],\"heatmap\":[{\"type\":\"heatmap\",\"colorbar\":{\"outlinewidth\":0,\"ticks\":\"\"},\"colorscale\":[[0.0,\"#0d0887\"],[0.1111111111111111,\"#46039f\"],[0.2222222222222222,\"#7201a8\"],[0.3333333333333333,\"#9c179e\"],[0.4444444444444444,\"#bd3786\"],[0.5555555555555556,\"#d8576b\"],[0.6666666666666666,\"#ed7953\"],[0.7777777777777778,\"#fb9f3a\"],[0.8888888888888888,\"#fdca26\"],[1.0,\"#f0f921\"]]}],\"heatmapgl\":[{\"type\":\"heatmapgl\",\"colorbar\":{\"outlinewidth\":0,\"ticks\":\"\"},\"colorscale\":[[0.0,\"#0d0887\"],[0.1111111111111111,\"#46039f\"],[0.2222222222222222,\"#7201a8\"],[0.3333333333333333,\"#9c179e\"],[0.4444444444444444,\"#bd3786\"],[0.5555555555555556,\"#d8576b\"],[0.6666666666666666,\"#ed7953\"],[0.7777777777777778,\"#fb9f3a\"],[0.8888888888888888,\"#fdca26\"],[1.0,\"#f0f921\"]]}],\"contourcarpet\":[{\"type\":\"contourcarpet\",\"colorbar\":{\"outlinewidth\":0,\"ticks\":\"\"}}],\"contour\":[{\"type\":\"contour\",\"colorbar\":{\"outlinewidth\":0,\"ticks\":\"\"},\"colorscale\":[[0.0,\"#0d0887\"],[0.1111111111111111,\"#46039f\"],[0.2222222222222222,\"#7201a8\"],[0.3333333333333333,\"#9c179e\"],[0.4444444444444444,\"#bd3786\"],[0.5555555555555556,\"#d8576b\"],[0.6666666666666666,\"#ed7953\"],[0.7777777777777778,\"#fb9f3a\"],[0.8888888888888888,\"#fdca26\"],[1.0,\"#f0f921\"]]}],\"surface\":[{\"type\":\"surface\",\"colorbar\":{\"outlinewidth\":0,\"ticks\":\"\"},\"colorscale\":[[0.0,\"#0d0887\"],[0.1111111111111111,\"#46039f\"],[0.2222222222222222,\"#7201a8\"],[0.3333333333333333,\"#9c179e\"],[0.4444444444444444,\"#bd3786\"],[0.5555555555555556,\"#d8576b\"],[0.6666666666666666,\"#ed7953\"],[0.7777777777777778,\"#fb9f3a\"],[0.8888888888888888,\"#fdca26\"],[1.0,\"#f0f921\"]]}],\"mesh3d\":[{\"type\":\"mesh3d\",\"colorbar\":{\"outlinewidth\":0,\"ticks\":\"\"}}],\"scatter\":[{\"fillpattern\":{\"fillmode\":\"overlay\",\"size\":10,\"solidity\":0.2},\"type\":\"scatter\"}],\"parcoords\":[{\"type\":\"parcoords\",\"line\":{\"colorbar\":{\"outlinewidth\":0,\"ticks\":\"\"}}}],\"scatterpolargl\":[{\"type\":\"scatterpolargl\",\"marker\":{\"colorbar\":{\"outlinewidth\":0,\"ticks\":\"\"}}}],\"bar\":[{\"error_x\":{\"color\":\"#2a3f5f\"},\"error_y\":{\"color\":\"#2a3f5f\"},\"marker\":{\"line\":{\"color\":\"#E5ECF6\",\"width\":0.5},\"pattern\":{\"fillmode\":\"overlay\",\"size\":10,\"solidity\":0.2}},\"type\":\"bar\"}],\"scattergeo\":[{\"type\":\"scattergeo\",\"marker\":{\"colorbar\":{\"outlinewidth\":0,\"ticks\":\"\"}}}],\"scatterpolar\":[{\"type\":\"scatterpolar\",\"marker\":{\"colorbar\":{\"outlinewidth\":0,\"ticks\":\"\"}}}],\"histogram\":[{\"marker\":{\"pattern\":{\"fillmode\":\"overlay\",\"size\":10,\"solidity\":0.2}},\"type\":\"histogram\"}],\"scattergl\":[{\"type\":\"scattergl\",\"marker\":{\"colorbar\":{\"outlinewidth\":0,\"ticks\":\"\"}}}],\"scatter3d\":[{\"type\":\"scatter3d\",\"line\":{\"colorbar\":{\"outlinewidth\":0,\"ticks\":\"\"}},\"marker\":{\"colorbar\":{\"outlinewidth\":0,\"ticks\":\"\"}}}],\"scattermapbox\":[{\"type\":\"scattermapbox\",\"marker\":{\"colorbar\":{\"outlinewidth\":0,\"ticks\":\"\"}}}],\"scatterternary\":[{\"type\":\"scatterternary\",\"marker\":{\"colorbar\":{\"outlinewidth\":0,\"ticks\":\"\"}}}],\"scattercarpet\":[{\"type\":\"scattercarpet\",\"marker\":{\"colorbar\":{\"outlinewidth\":0,\"ticks\":\"\"}}}],\"carpet\":[{\"aaxis\":{\"endlinecolor\":\"#2a3f5f\",\"gridcolor\":\"white\",\"linecolor\":\"white\",\"minorgridcolor\":\"white\",\"startlinecolor\":\"#2a3f5f\"},\"baxis\":{\"endlinecolor\":\"#2a3f5f\",\"gridcolor\":\"white\",\"linecolor\":\"white\",\"minorgridcolor\":\"white\",\"startlinecolor\":\"#2a3f5f\"},\"type\":\"carpet\"}],\"table\":[{\"cells\":{\"fill\":{\"color\":\"#EBF0F8\"},\"line\":{\"color\":\"white\"}},\"header\":{\"fill\":{\"color\":\"#C8D4E3\"},\"line\":{\"color\":\"white\"}},\"type\":\"table\"}],\"barpolar\":[{\"marker\":{\"line\":{\"color\":\"#E5ECF6\",\"width\":0.5},\"pattern\":{\"fillmode\":\"overlay\",\"size\":10,\"solidity\":0.2}},\"type\":\"barpolar\"}],\"pie\":[{\"automargin\":true,\"type\":\"pie\"}]},\"layout\":{\"autotypenumbers\":\"strict\",\"colorway\":[\"#636efa\",\"#EF553B\",\"#00cc96\",\"#ab63fa\",\"#FFA15A\",\"#19d3f3\",\"#FF6692\",\"#B6E880\",\"#FF97FF\",\"#FECB52\"],\"font\":{\"color\":\"#2a3f5f\"},\"hovermode\":\"closest\",\"hoverlabel\":{\"align\":\"left\"},\"paper_bgcolor\":\"white\",\"plot_bgcolor\":\"#E5ECF6\",\"polar\":{\"bgcolor\":\"#E5ECF6\",\"angularaxis\":{\"gridcolor\":\"white\",\"linecolor\":\"white\",\"ticks\":\"\"},\"radialaxis\":{\"gridcolor\":\"white\",\"linecolor\":\"white\",\"ticks\":\"\"}},\"ternary\":{\"bgcolor\":\"#E5ECF6\",\"aaxis\":{\"gridcolor\":\"white\",\"linecolor\":\"white\",\"ticks\":\"\"},\"baxis\":{\"gridcolor\":\"white\",\"linecolor\":\"white\",\"ticks\":\"\"},\"caxis\":{\"gridcolor\":\"white\",\"linecolor\":\"white\",\"ticks\":\"\"}},\"coloraxis\":{\"colorbar\":{\"outlinewidth\":0,\"ticks\":\"\"}},\"colorscale\":{\"sequential\":[[0.0,\"#0d0887\"],[0.1111111111111111,\"#46039f\"],[0.2222222222222222,\"#7201a8\"],[0.3333333333333333,\"#9c179e\"],[0.4444444444444444,\"#bd3786\"],[0.5555555555555556,\"#d8576b\"],[0.6666666666666666,\"#ed7953\"],[0.7777777777777778,\"#fb9f3a\"],[0.8888888888888888,\"#fdca26\"],[1.0,\"#f0f921\"]],\"sequentialminus\":[[0.0,\"#0d0887\"],[0.1111111111111111,\"#46039f\"],[0.2222222222222222,\"#7201a8\"],[0.3333333333333333,\"#9c179e\"],[0.4444444444444444,\"#bd3786\"],[0.5555555555555556,\"#d8576b\"],[0.6666666666666666,\"#ed7953\"],[0.7777777777777778,\"#fb9f3a\"],[0.8888888888888888,\"#fdca26\"],[1.0,\"#f0f921\"]],\"diverging\":[[0,\"#8e0152\"],[0.1,\"#c51b7d\"],[0.2,\"#de77ae\"],[0.3,\"#f1b6da\"],[0.4,\"#fde0ef\"],[0.5,\"#f7f7f7\"],[0.6,\"#e6f5d0\"],[0.7,\"#b8e186\"],[0.8,\"#7fbc41\"],[0.9,\"#4d9221\"],[1,\"#276419\"]]},\"xaxis\":{\"gridcolor\":\"white\",\"linecolor\":\"white\",\"ticks\":\"\",\"title\":{\"standoff\":15},\"zerolinecolor\":\"white\",\"automargin\":true,\"zerolinewidth\":2},\"yaxis\":{\"gridcolor\":\"white\",\"linecolor\":\"white\",\"ticks\":\"\",\"title\":{\"standoff\":15},\"zerolinecolor\":\"white\",\"automargin\":true,\"zerolinewidth\":2},\"scene\":{\"xaxis\":{\"backgroundcolor\":\"#E5ECF6\",\"gridcolor\":\"white\",\"linecolor\":\"white\",\"showbackground\":true,\"ticks\":\"\",\"zerolinecolor\":\"white\",\"gridwidth\":2},\"yaxis\":{\"backgroundcolor\":\"#E5ECF6\",\"gridcolor\":\"white\",\"linecolor\":\"white\",\"showbackground\":true,\"ticks\":\"\",\"zerolinecolor\":\"white\",\"gridwidth\":2},\"zaxis\":{\"backgroundcolor\":\"#E5ECF6\",\"gridcolor\":\"white\",\"linecolor\":\"white\",\"showbackground\":true,\"ticks\":\"\",\"zerolinecolor\":\"white\",\"gridwidth\":2}},\"shapedefaults\":{\"line\":{\"color\":\"#2a3f5f\"}},\"annotationdefaults\":{\"arrowcolor\":\"#2a3f5f\",\"arrowhead\":0,\"arrowwidth\":1},\"geo\":{\"bgcolor\":\"white\",\"landcolor\":\"#E5ECF6\",\"subunitcolor\":\"white\",\"showland\":true,\"showlakes\":true,\"lakecolor\":\"white\"},\"title\":{\"x\":0.05},\"mapbox\":{\"style\":\"light\"}}},\"title\":{\"text\":\"Alanine Dipeptide Structure\"},\"scene\":{\"xaxis\":{\"title\":{\"text\":\"X (\\u00c5)\"}},\"yaxis\":{\"title\":{\"text\":\"Y (\\u00c5)\"}},\"zaxis\":{\"title\":{\"text\":\"Z (\\u00c5)\"}}},\"showlegend\":false},                        {\"responsive\": true}                    ).then(function(){\n",
       "                            \n",
       "var gd = document.getElementById('2fc0effa-7c55-4ad0-9d09-3ac1c6d15bc5');\n",
       "var x = new MutationObserver(function (mutations, observer) {{\n",
       "        var display = window.getComputedStyle(gd).display;\n",
       "        if (!display || display === 'none') {{\n",
       "            console.log([gd, 'removed!']);\n",
       "            Plotly.purge(gd);\n",
       "            observer.disconnect();\n",
       "        }}\n",
       "}});\n",
       "\n",
       "// Listen for the removal of the full notebook cells\n",
       "var notebookContainer = gd.closest('#notebook-container');\n",
       "if (notebookContainer) {{\n",
       "    x.observe(notebookContainer, {childList: true});\n",
       "}}\n",
       "\n",
       "// Listen for the clearing of the current output cell\n",
       "var outputEl = gd.closest('.output');\n",
       "if (outputEl) {{\n",
       "    x.observe(outputEl, {childList: true});\n",
       "}}\n",
       "\n",
       "                        })                };                });            </script>        </div>"
      ]
     },
     "metadata": {},
     "output_type": "display_data"
    }
   ],
   "source": [
    "\n",
    "\n",
    "def pdb_to_xyz(pdbfile):\n",
    "    \"\"\"Convert PDB file to xyz coordinates, atom types, and atom info\"\"\"\n",
    "    parser = PDBParser(QUIET=True)\n",
    "    structure = parser.get_structure('protein', pdbfile)\n",
    "    \n",
    "    # Get coordinates, atom types and atom info\n",
    "    coords = []\n",
    "    atom_types = []\n",
    "    atom_info = []\n",
    "    \n",
    "    for model in structure:\n",
    "        for chain in model:\n",
    "            for residue in chain:\n",
    "                for atom in residue:\n",
    "                    coords.append(atom.get_coord())\n",
    "                    atom_types.append(atom.element)\n",
    "                    atom_info.append(f\"{atom.get_name()} from {residue.get_resname()} (residue {residue.get_id()[1]})\")\n",
    "                    \n",
    "    coords = np.array(coords)\n",
    "    \n",
    "    return coords, atom_types, atom_info\n",
    "\n",
    "def find_bonds(coords, atom_types, max_dist=2.0):\n",
    "    \"\"\"Find bonds between atoms based on distance criteria\"\"\"\n",
    "    bonds = []\n",
    "    n_atoms = len(coords)\n",
    "    \n",
    "    # Typical bond lengths (in Angstroms)\n",
    "    bond_lengths = {\n",
    "        ('C', 'C'): 1.54,\n",
    "        ('C', 'N'): 1.47,\n",
    "        ('C', 'O'): 1.43,\n",
    "        ('C', 'H'): 1.09,\n",
    "        ('N', 'H'): 1.01,\n",
    "        ('O', 'H'): 0.96\n",
    "    }\n",
    "    \n",
    "    # Make bond lengths symmetric\n",
    "    for (a1, a2), dist in list(bond_lengths.items()):\n",
    "        bond_lengths[(a2, a1)] = dist\n",
    "    \n",
    "    # Calculate distances between all pairs of atoms\n",
    "    for i in range(n_atoms):\n",
    "        for j in range(i+1, n_atoms):\n",
    "            # Skip if both atoms are hydrogen\n",
    "            if atom_types[i] == 'H' and atom_types[j] == 'H':\n",
    "                continue\n",
    "                \n",
    "            dist = np.linalg.norm(coords[i] - coords[j])\n",
    "            \n",
    "            # Get expected bond length\n",
    "            expected_length = bond_lengths.get((atom_types[i], atom_types[j]), 1.5)\n",
    "            \n",
    "            # Add bond if distance is within tolerance of expected length\n",
    "            if dist < expected_length * 1.3:  # 30% tolerance\n",
    "                bonds.append((i, j))\n",
    "                \n",
    "    return bonds\n",
    "\n",
    "# Convert PDB to xyz coordinates\n",
    "coords, atom_types, atom_info = pdb_to_xyz(\"alanine_dipeptide_nowater.pdb\")\n",
    "\n",
    "# Find bonds\n",
    "bonds = find_bonds(coords, atom_types)\n",
    "\n",
    "# Save coordinates to xyz file\n",
    "with open('alanine_dipeptide.xyz', 'w') as f:\n",
    "    f.write(f\"{len(coords)}\\n\")\n",
    "    f.write(\"Alanine dipeptide structure\\n\")\n",
    "    for atom_type, coord in zip(atom_types, coords):\n",
    "        f.write(f\"{atom_type:2s} {coord[0]:10.6f} {coord[1]:10.6f} {coord[2]:10.6f}\\n\")\n",
    "\n"
   ]
  },
  {
   "cell_type": "code",
   "execution_count": 90,
   "metadata": {},
   "outputs": [
    {
     "data": {
      "application/vnd.plotly.v1+json": {
       "config": {
        "plotlyServerURL": "https://plot.ly"
       },
       "data": [
        {
         "hoverinfo": "text",
         "marker": {
          "color": [
           "lightgray",
           "black",
           "lightgray",
           "lightgray",
           "black",
           "red",
           "blue",
           "lightgray",
           "black",
           "lightgray",
           "black",
           "lightgray",
           "lightgray",
           "lightgray",
           "black",
           "red",
           "blue",
           "lightgray",
           "black",
           "lightgray",
           "lightgray",
           "lightgray"
          ],
          "opacity": 0.3,
          "size": 10
         },
         "mode": "markers",
         "text": [
          "Original 0: HH31 from ACE (residue 1)",
          "Original 1: CH3 from ACE (residue 1)",
          "Original 2: HH32 from ACE (residue 1)",
          "Original 3: HH33 from ACE (residue 1)",
          "Original 4: C from ACE (residue 1)",
          "Original 5: O from ACE (residue 1)",
          "Original 6: N from ALA (residue 2)",
          "Original 7: H from ALA (residue 2)",
          "Original 8: CA from ALA (residue 2)",
          "Original 9: HA from ALA (residue 2)",
          "Original 10: CB from ALA (residue 2)",
          "Original 11: HB1 from ALA (residue 2)",
          "Original 12: HB2 from ALA (residue 2)",
          "Original 13: HB3 from ALA (residue 2)",
          "Original 14: C from ALA (residue 2)",
          "Original 15: O from ALA (residue 2)",
          "Original 16: N from NME (residue 3)",
          "Original 17: H from NME (residue 3)",
          "Original 18: CH3 from NME (residue 3)",
          "Original 19: HH31 from NME (residue 3)",
          "Original 20: HH32 from NME (residue 3)",
          "Original 21: HH33 from NME (residue 3)"
         ],
         "type": "scatter3d",
         "x": [
          3.2249999046325684,
          3.7200000286102295,
          4.0879998207092285,
          4.557000160217285,
          2.7699999809265137,
          1.600000023841858,
          3.2699999809265137,
          4.258999824523926,
          2.4800000190734863,
          1.7330000400543213,
          3.4700000286102295,
          4.218999862670898,
          2.921999931335449,
          3.9630000591278076,
          1.7300000190734863,
          2.3399999141693115,
          0.4000000059604645,
          -0.00800000037997961,
          -0.4699999988079071,
          0.1120000034570694,
          -1.2899999618530273,
          -0.8730000257492065
         ],
         "y": [
          27.427000045776367,
          26.56999969482422,
          25.905000686645508,
          26.913999557495117,
          25.799999237060547,
          26.149999618530273,
          24.639999389648438,
          24.47100067138672,
          23.690000534057617,
          24.315000534057617,
          23.15999984741211,
          22.524999618530273,
          22.582000732421875,
          24.00200080871582,
          22.59000015258789,
          21.8799991607666,
          22.43000030517578,
          23.118000030517578,
          21.350000381469727,
          20.69300079345703,
          21.785999298095703,
          20.774999618530273
         ],
         "z": [
          2.565999984741211,
          2.109999895095825,
          2.8910000324249268,
          1.5019999742507935,
          1.2300000190734863,
          1.090000033378601,
          0.6899999976158142,
          0.8100000023841858,
          -0.1899999976158142,
          -0.6790000200271606,
          -1.2699999809265137,
          -0.796999990940094,
          -2.0139999389648438,
          -1.75600004196167,
          0.49000000953674316,
          1.2799999713897705,
          0.20999999344348907,
          -0.40700000524520874,
          0.7300000190734863,
          1.3760000467300415,
          1.2999999523162842,
          -0.10300000011920929
         ]
        },
        {
         "hoverinfo": "text",
         "marker": {
          "color": [
           "lightgray",
           "black",
           "lightgray",
           "lightgray",
           "black",
           "red",
           "blue",
           "lightgray",
           "black",
           "lightgray",
           "black",
           "lightgray",
           "lightgray",
           "lightgray",
           "black",
           "red",
           "blue",
           "lightgray",
           "black",
           "lightgray",
           "lightgray",
           "lightgray"
          ],
          "opacity": 0.8,
          "size": 10
         },
         "mode": "markers",
         "text": [
          "Rotated 0: HH31 from ACE (residue 1)",
          "Rotated 1: CH3 from ACE (residue 1)",
          "Rotated 2: HH32 from ACE (residue 1)",
          "Rotated 3: HH33 from ACE (residue 1)",
          "Rotated 4: C from ACE (residue 1)",
          "Rotated 5: O from ACE (residue 1)",
          "Rotated 6: N from ALA (residue 2)",
          "Rotated 7: H from ALA (residue 2)",
          "Rotated 8: CA from ALA (residue 2)",
          "Rotated 9: HA from ALA (residue 2)",
          "Rotated 10: CB from ALA (residue 2)",
          "Rotated 11: HB1 from ALA (residue 2)",
          "Rotated 12: HB2 from ALA (residue 2)",
          "Rotated 13: HB3 from ALA (residue 2)",
          "Rotated 14: C from ALA (residue 2)",
          "Rotated 15: O from ALA (residue 2)",
          "Rotated 16: N from NME (residue 3)",
          "Rotated 17: H from NME (residue 3)",
          "Rotated 18: CH3 from NME (residue 3)",
          "Rotated 19: HH31 from NME (residue 3)",
          "Rotated 20: HH32 from NME (residue 3)",
          "Rotated 21: HH33 from NME (residue 3)"
         ],
         "type": "scatter3d",
         "x": [
          3.2249999046325684,
          3.7200000286102295,
          4.0879998207092285,
          4.557000160217285,
          2.668682336807251,
          2.2633023262023926,
          1.8444383144378662,
          2.2836694717407227,
          0.36797839403152466,
          0.25722160935401917,
          0.06768206506967545,
          0.16570156812667847,
          -0.9472503066062927,
          0.7745257019996643,
          -0.5936358571052551,
          -0.5020621418952942,
          -1.5233055353164673,
          -1.4579050540924072,
          -2.5952069759368896,
          -2.534339666366577,
          -2.4750664234161377,
          -3.5662319660186768
         ],
         "y": [
          27.427000045776367,
          26.56999969482422,
          25.905000686645508,
          26.913999557495117,
          27.387969970703125,
          28.3873233795166,
          26.57254981994629,
          25.81005859375,
          26.82832908630371,
          27.910961151123047,
          26.37493896484375,
          25.291833877563477,
          26.666135787963867,
          26.849328994750977,
          26.252050399780273,
          25.059589385986328,
          27.07797622680664,
          28.055334091186523,
          26.660053253173828,
          25.584701538085938,
          27.181283950805664,
          26.906129837036133
         ],
         "z": [
          2.565999984741211,
          2.109999895095825,
          2.8910000324249268,
          1.5019999742507935,
          2.3493244647979736,
          2.9392051696777344,
          1.6124992370605469,
          1.1157433986663818,
          1.376617193222046,
          1.4348807334899902,
          -0.0834035575389862,
          -0.15572230517864227,
          -0.3536630868911743,
          -0.7642395496368408,
          2.365607738494873,
          2.6300899982452393,
          2.936976909637451,
          2.690018892288208,
          3.869750738143921,
          4.035888671875,
          4.819107532501221,
          3.441404342651367
         ]
        },
        {
         "hoverinfo": "none",
         "line": {
          "color": "gray",
          "width": 5
         },
         "mode": "lines",
         "opacity": 0.3,
         "type": "scatter3d",
         "x": [
          3.2249999046325684,
          3.7200000286102295
         ],
         "y": [
          27.427000045776367,
          26.56999969482422
         ],
         "z": [
          2.565999984741211,
          2.109999895095825
         ]
        },
        {
         "hoverinfo": "none",
         "line": {
          "color": "gray",
          "width": 5
         },
         "mode": "lines",
         "opacity": 0.3,
         "type": "scatter3d",
         "x": [
          3.7200000286102295,
          4.0879998207092285
         ],
         "y": [
          26.56999969482422,
          25.905000686645508
         ],
         "z": [
          2.109999895095825,
          2.8910000324249268
         ]
        },
        {
         "hoverinfo": "none",
         "line": {
          "color": "gray",
          "width": 5
         },
         "mode": "lines",
         "opacity": 0.3,
         "type": "scatter3d",
         "x": [
          3.7200000286102295,
          4.557000160217285
         ],
         "y": [
          26.56999969482422,
          26.913999557495117
         ],
         "z": [
          2.109999895095825,
          1.5019999742507935
         ]
        },
        {
         "hoverinfo": "none",
         "line": {
          "color": "gray",
          "width": 5
         },
         "mode": "lines",
         "opacity": 0.3,
         "type": "scatter3d",
         "x": [
          3.7200000286102295,
          2.7699999809265137
         ],
         "y": [
          26.56999969482422,
          25.799999237060547
         ],
         "z": [
          2.109999895095825,
          1.2300000190734863
         ]
        },
        {
         "hoverinfo": "none",
         "line": {
          "color": "gray",
          "width": 5
         },
         "mode": "lines",
         "opacity": 0.3,
         "type": "scatter3d",
         "x": [
          2.7699999809265137,
          1.600000023841858
         ],
         "y": [
          25.799999237060547,
          26.149999618530273
         ],
         "z": [
          1.2300000190734863,
          1.090000033378601
         ]
        },
        {
         "hoverinfo": "none",
         "line": {
          "color": "gray",
          "width": 5
         },
         "mode": "lines",
         "opacity": 0.3,
         "type": "scatter3d",
         "x": [
          2.7699999809265137,
          3.2699999809265137
         ],
         "y": [
          25.799999237060547,
          24.639999389648438
         ],
         "z": [
          1.2300000190734863,
          0.6899999976158142
         ]
        },
        {
         "hoverinfo": "none",
         "line": {
          "color": "gray",
          "width": 5
         },
         "mode": "lines",
         "opacity": 0.3,
         "type": "scatter3d",
         "x": [
          3.2699999809265137,
          4.258999824523926
         ],
         "y": [
          24.639999389648438,
          24.47100067138672
         ],
         "z": [
          0.6899999976158142,
          0.8100000023841858
         ]
        },
        {
         "hoverinfo": "none",
         "line": {
          "color": "gray",
          "width": 5
         },
         "mode": "lines",
         "opacity": 0.3,
         "type": "scatter3d",
         "x": [
          3.2699999809265137,
          2.4800000190734863
         ],
         "y": [
          24.639999389648438,
          23.690000534057617
         ],
         "z": [
          0.6899999976158142,
          -0.1899999976158142
         ]
        },
        {
         "hoverinfo": "none",
         "line": {
          "color": "gray",
          "width": 5
         },
         "mode": "lines",
         "opacity": 0.3,
         "type": "scatter3d",
         "x": [
          2.4800000190734863,
          1.7330000400543213
         ],
         "y": [
          23.690000534057617,
          24.315000534057617
         ],
         "z": [
          -0.1899999976158142,
          -0.6790000200271606
         ]
        },
        {
         "hoverinfo": "none",
         "line": {
          "color": "gray",
          "width": 5
         },
         "mode": "lines",
         "opacity": 0.3,
         "type": "scatter3d",
         "x": [
          2.4800000190734863,
          3.4700000286102295
         ],
         "y": [
          23.690000534057617,
          23.15999984741211
         ],
         "z": [
          -0.1899999976158142,
          -1.2699999809265137
         ]
        },
        {
         "hoverinfo": "none",
         "line": {
          "color": "gray",
          "width": 5
         },
         "mode": "lines",
         "opacity": 0.3,
         "type": "scatter3d",
         "x": [
          2.4800000190734863,
          1.7300000190734863
         ],
         "y": [
          23.690000534057617,
          22.59000015258789
         ],
         "z": [
          -0.1899999976158142,
          0.49000000953674316
         ]
        },
        {
         "hoverinfo": "none",
         "line": {
          "color": "gray",
          "width": 5
         },
         "mode": "lines",
         "opacity": 0.3,
         "type": "scatter3d",
         "x": [
          3.4700000286102295,
          4.218999862670898
         ],
         "y": [
          23.15999984741211,
          22.524999618530273
         ],
         "z": [
          -1.2699999809265137,
          -0.796999990940094
         ]
        },
        {
         "hoverinfo": "none",
         "line": {
          "color": "gray",
          "width": 5
         },
         "mode": "lines",
         "opacity": 0.3,
         "type": "scatter3d",
         "x": [
          3.4700000286102295,
          2.921999931335449
         ],
         "y": [
          23.15999984741211,
          22.582000732421875
         ],
         "z": [
          -1.2699999809265137,
          -2.0139999389648438
         ]
        },
        {
         "hoverinfo": "none",
         "line": {
          "color": "gray",
          "width": 5
         },
         "mode": "lines",
         "opacity": 0.3,
         "type": "scatter3d",
         "x": [
          3.4700000286102295,
          3.9630000591278076
         ],
         "y": [
          23.15999984741211,
          24.00200080871582
         ],
         "z": [
          -1.2699999809265137,
          -1.75600004196167
         ]
        },
        {
         "hoverinfo": "none",
         "line": {
          "color": "gray",
          "width": 5
         },
         "mode": "lines",
         "opacity": 0.3,
         "type": "scatter3d",
         "x": [
          1.7300000190734863,
          2.3399999141693115
         ],
         "y": [
          22.59000015258789,
          21.8799991607666
         ],
         "z": [
          0.49000000953674316,
          1.2799999713897705
         ]
        },
        {
         "hoverinfo": "none",
         "line": {
          "color": "gray",
          "width": 5
         },
         "mode": "lines",
         "opacity": 0.3,
         "type": "scatter3d",
         "x": [
          1.7300000190734863,
          0.4000000059604645
         ],
         "y": [
          22.59000015258789,
          22.43000030517578
         ],
         "z": [
          0.49000000953674316,
          0.20999999344348907
         ]
        },
        {
         "hoverinfo": "none",
         "line": {
          "color": "gray",
          "width": 5
         },
         "mode": "lines",
         "opacity": 0.3,
         "type": "scatter3d",
         "x": [
          0.4000000059604645,
          -0.00800000037997961
         ],
         "y": [
          22.43000030517578,
          23.118000030517578
         ],
         "z": [
          0.20999999344348907,
          -0.40700000524520874
         ]
        },
        {
         "hoverinfo": "none",
         "line": {
          "color": "gray",
          "width": 5
         },
         "mode": "lines",
         "opacity": 0.3,
         "type": "scatter3d",
         "x": [
          0.4000000059604645,
          -0.4699999988079071
         ],
         "y": [
          22.43000030517578,
          21.350000381469727
         ],
         "z": [
          0.20999999344348907,
          0.7300000190734863
         ]
        },
        {
         "hoverinfo": "none",
         "line": {
          "color": "gray",
          "width": 5
         },
         "mode": "lines",
         "opacity": 0.3,
         "type": "scatter3d",
         "x": [
          -0.4699999988079071,
          0.1120000034570694
         ],
         "y": [
          21.350000381469727,
          20.69300079345703
         ],
         "z": [
          0.7300000190734863,
          1.3760000467300415
         ]
        },
        {
         "hoverinfo": "none",
         "line": {
          "color": "gray",
          "width": 5
         },
         "mode": "lines",
         "opacity": 0.3,
         "type": "scatter3d",
         "x": [
          -0.4699999988079071,
          -1.2899999618530273
         ],
         "y": [
          21.350000381469727,
          21.785999298095703
         ],
         "z": [
          0.7300000190734863,
          1.2999999523162842
         ]
        },
        {
         "hoverinfo": "none",
         "line": {
          "color": "gray",
          "width": 5
         },
         "mode": "lines",
         "opacity": 0.3,
         "type": "scatter3d",
         "x": [
          -0.4699999988079071,
          -0.8730000257492065
         ],
         "y": [
          21.350000381469727,
          20.774999618530273
         ],
         "z": [
          0.7300000190734863,
          -0.10300000011920929
         ]
        },
        {
         "hoverinfo": "none",
         "line": {
          "color": "gray",
          "width": 5
         },
         "mode": "lines",
         "type": "scatter3d",
         "x": [
          3.2249999046325684,
          3.7200000286102295
         ],
         "y": [
          27.427000045776367,
          26.56999969482422
         ],
         "z": [
          2.565999984741211,
          2.109999895095825
         ]
        },
        {
         "hoverinfo": "none",
         "line": {
          "color": "gray",
          "width": 5
         },
         "mode": "lines",
         "type": "scatter3d",
         "x": [
          3.7200000286102295,
          4.0879998207092285
         ],
         "y": [
          26.56999969482422,
          25.905000686645508
         ],
         "z": [
          2.109999895095825,
          2.8910000324249268
         ]
        },
        {
         "hoverinfo": "none",
         "line": {
          "color": "gray",
          "width": 5
         },
         "mode": "lines",
         "type": "scatter3d",
         "x": [
          3.7200000286102295,
          4.557000160217285
         ],
         "y": [
          26.56999969482422,
          26.913999557495117
         ],
         "z": [
          2.109999895095825,
          1.5019999742507935
         ]
        },
        {
         "hoverinfo": "none",
         "line": {
          "color": "gray",
          "width": 5
         },
         "mode": "lines",
         "type": "scatter3d",
         "x": [
          3.7200000286102295,
          2.668682336807251
         ],
         "y": [
          26.56999969482422,
          27.387969970703125
         ],
         "z": [
          2.109999895095825,
          2.3493244647979736
         ]
        },
        {
         "hoverinfo": "none",
         "line": {
          "color": "gray",
          "width": 5
         },
         "mode": "lines",
         "type": "scatter3d",
         "x": [
          2.668682336807251,
          2.2633023262023926
         ],
         "y": [
          27.387969970703125,
          28.3873233795166
         ],
         "z": [
          2.3493244647979736,
          2.9392051696777344
         ]
        },
        {
         "hoverinfo": "none",
         "line": {
          "color": "gray",
          "width": 5
         },
         "mode": "lines",
         "type": "scatter3d",
         "x": [
          2.668682336807251,
          1.8444383144378662
         ],
         "y": [
          27.387969970703125,
          26.57254981994629
         ],
         "z": [
          2.3493244647979736,
          1.6124992370605469
         ]
        },
        {
         "hoverinfo": "none",
         "line": {
          "color": "gray",
          "width": 5
         },
         "mode": "lines",
         "type": "scatter3d",
         "x": [
          1.8444383144378662,
          2.2836694717407227
         ],
         "y": [
          26.57254981994629,
          25.81005859375
         ],
         "z": [
          1.6124992370605469,
          1.1157433986663818
         ]
        },
        {
         "hoverinfo": "none",
         "line": {
          "color": "gray",
          "width": 5
         },
         "mode": "lines",
         "type": "scatter3d",
         "x": [
          1.8444383144378662,
          0.36797839403152466
         ],
         "y": [
          26.57254981994629,
          26.82832908630371
         ],
         "z": [
          1.6124992370605469,
          1.376617193222046
         ]
        },
        {
         "hoverinfo": "none",
         "line": {
          "color": "gray",
          "width": 5
         },
         "mode": "lines",
         "type": "scatter3d",
         "x": [
          0.36797839403152466,
          0.25722160935401917
         ],
         "y": [
          26.82832908630371,
          27.910961151123047
         ],
         "z": [
          1.376617193222046,
          1.4348807334899902
         ]
        },
        {
         "hoverinfo": "none",
         "line": {
          "color": "gray",
          "width": 5
         },
         "mode": "lines",
         "type": "scatter3d",
         "x": [
          0.36797839403152466,
          0.06768206506967545
         ],
         "y": [
          26.82832908630371,
          26.37493896484375
         ],
         "z": [
          1.376617193222046,
          -0.0834035575389862
         ]
        },
        {
         "hoverinfo": "none",
         "line": {
          "color": "gray",
          "width": 5
         },
         "mode": "lines",
         "type": "scatter3d",
         "x": [
          0.36797839403152466,
          -0.5936358571052551
         ],
         "y": [
          26.82832908630371,
          26.252050399780273
         ],
         "z": [
          1.376617193222046,
          2.365607738494873
         ]
        },
        {
         "hoverinfo": "none",
         "line": {
          "color": "gray",
          "width": 5
         },
         "mode": "lines",
         "type": "scatter3d",
         "x": [
          0.06768206506967545,
          0.16570156812667847
         ],
         "y": [
          26.37493896484375,
          25.291833877563477
         ],
         "z": [
          -0.0834035575389862,
          -0.15572230517864227
         ]
        },
        {
         "hoverinfo": "none",
         "line": {
          "color": "gray",
          "width": 5
         },
         "mode": "lines",
         "type": "scatter3d",
         "x": [
          0.06768206506967545,
          -0.9472503066062927
         ],
         "y": [
          26.37493896484375,
          26.666135787963867
         ],
         "z": [
          -0.0834035575389862,
          -0.3536630868911743
         ]
        },
        {
         "hoverinfo": "none",
         "line": {
          "color": "gray",
          "width": 5
         },
         "mode": "lines",
         "type": "scatter3d",
         "x": [
          0.06768206506967545,
          0.7745257019996643
         ],
         "y": [
          26.37493896484375,
          26.849328994750977
         ],
         "z": [
          -0.0834035575389862,
          -0.7642395496368408
         ]
        },
        {
         "hoverinfo": "none",
         "line": {
          "color": "gray",
          "width": 5
         },
         "mode": "lines",
         "type": "scatter3d",
         "x": [
          -0.5936358571052551,
          -0.5020621418952942
         ],
         "y": [
          26.252050399780273,
          25.059589385986328
         ],
         "z": [
          2.365607738494873,
          2.6300899982452393
         ]
        },
        {
         "hoverinfo": "none",
         "line": {
          "color": "gray",
          "width": 5
         },
         "mode": "lines",
         "type": "scatter3d",
         "x": [
          -0.5936358571052551,
          -1.5233055353164673
         ],
         "y": [
          26.252050399780273,
          27.07797622680664
         ],
         "z": [
          2.365607738494873,
          2.936976909637451
         ]
        },
        {
         "hoverinfo": "none",
         "line": {
          "color": "gray",
          "width": 5
         },
         "mode": "lines",
         "type": "scatter3d",
         "x": [
          -1.5233055353164673,
          -1.4579050540924072
         ],
         "y": [
          27.07797622680664,
          28.055334091186523
         ],
         "z": [
          2.936976909637451,
          2.690018892288208
         ]
        },
        {
         "hoverinfo": "none",
         "line": {
          "color": "gray",
          "width": 5
         },
         "mode": "lines",
         "type": "scatter3d",
         "x": [
          -1.5233055353164673,
          -2.5952069759368896
         ],
         "y": [
          27.07797622680664,
          26.660053253173828
         ],
         "z": [
          2.936976909637451,
          3.869750738143921
         ]
        },
        {
         "hoverinfo": "none",
         "line": {
          "color": "gray",
          "width": 5
         },
         "mode": "lines",
         "type": "scatter3d",
         "x": [
          -2.5952069759368896,
          -2.534339666366577
         ],
         "y": [
          26.660053253173828,
          25.584701538085938
         ],
         "z": [
          3.869750738143921,
          4.035888671875
         ]
        },
        {
         "hoverinfo": "none",
         "line": {
          "color": "gray",
          "width": 5
         },
         "mode": "lines",
         "type": "scatter3d",
         "x": [
          -2.5952069759368896,
          -2.4750664234161377
         ],
         "y": [
          26.660053253173828,
          27.181283950805664
         ],
         "z": [
          3.869750738143921,
          4.819107532501221
         ]
        },
        {
         "hoverinfo": "none",
         "line": {
          "color": "gray",
          "width": 5
         },
         "mode": "lines",
         "type": "scatter3d",
         "x": [
          -2.5952069759368896,
          -3.5662319660186768
         ],
         "y": [
          26.660053253173828,
          26.906129837036133
         ],
         "z": [
          3.869750738143921,
          3.441404342651367
         ]
        }
       ],
       "layout": {
        "scene": {
         "xaxis": {
          "title": {
           "text": "X (Å)"
          }
         },
         "yaxis": {
          "title": {
           "text": "Y (Å)"
          }
         },
         "zaxis": {
          "title": {
           "text": "Z (Å)"
          }
         }
        },
        "showlegend": false,
        "template": {
         "data": {
          "bar": [
           {
            "error_x": {
             "color": "#2a3f5f"
            },
            "error_y": {
             "color": "#2a3f5f"
            },
            "marker": {
             "line": {
              "color": "#E5ECF6",
              "width": 0.5
             },
             "pattern": {
              "fillmode": "overlay",
              "size": 10,
              "solidity": 0.2
             }
            },
            "type": "bar"
           }
          ],
          "barpolar": [
           {
            "marker": {
             "line": {
              "color": "#E5ECF6",
              "width": 0.5
             },
             "pattern": {
              "fillmode": "overlay",
              "size": 10,
              "solidity": 0.2
             }
            },
            "type": "barpolar"
           }
          ],
          "carpet": [
           {
            "aaxis": {
             "endlinecolor": "#2a3f5f",
             "gridcolor": "white",
             "linecolor": "white",
             "minorgridcolor": "white",
             "startlinecolor": "#2a3f5f"
            },
            "baxis": {
             "endlinecolor": "#2a3f5f",
             "gridcolor": "white",
             "linecolor": "white",
             "minorgridcolor": "white",
             "startlinecolor": "#2a3f5f"
            },
            "type": "carpet"
           }
          ],
          "choropleth": [
           {
            "colorbar": {
             "outlinewidth": 0,
             "ticks": ""
            },
            "type": "choropleth"
           }
          ],
          "contour": [
           {
            "colorbar": {
             "outlinewidth": 0,
             "ticks": ""
            },
            "colorscale": [
             [
              0,
              "#0d0887"
             ],
             [
              0.1111111111111111,
              "#46039f"
             ],
             [
              0.2222222222222222,
              "#7201a8"
             ],
             [
              0.3333333333333333,
              "#9c179e"
             ],
             [
              0.4444444444444444,
              "#bd3786"
             ],
             [
              0.5555555555555556,
              "#d8576b"
             ],
             [
              0.6666666666666666,
              "#ed7953"
             ],
             [
              0.7777777777777778,
              "#fb9f3a"
             ],
             [
              0.8888888888888888,
              "#fdca26"
             ],
             [
              1,
              "#f0f921"
             ]
            ],
            "type": "contour"
           }
          ],
          "contourcarpet": [
           {
            "colorbar": {
             "outlinewidth": 0,
             "ticks": ""
            },
            "type": "contourcarpet"
           }
          ],
          "heatmap": [
           {
            "colorbar": {
             "outlinewidth": 0,
             "ticks": ""
            },
            "colorscale": [
             [
              0,
              "#0d0887"
             ],
             [
              0.1111111111111111,
              "#46039f"
             ],
             [
              0.2222222222222222,
              "#7201a8"
             ],
             [
              0.3333333333333333,
              "#9c179e"
             ],
             [
              0.4444444444444444,
              "#bd3786"
             ],
             [
              0.5555555555555556,
              "#d8576b"
             ],
             [
              0.6666666666666666,
              "#ed7953"
             ],
             [
              0.7777777777777778,
              "#fb9f3a"
             ],
             [
              0.8888888888888888,
              "#fdca26"
             ],
             [
              1,
              "#f0f921"
             ]
            ],
            "type": "heatmap"
           }
          ],
          "heatmapgl": [
           {
            "colorbar": {
             "outlinewidth": 0,
             "ticks": ""
            },
            "colorscale": [
             [
              0,
              "#0d0887"
             ],
             [
              0.1111111111111111,
              "#46039f"
             ],
             [
              0.2222222222222222,
              "#7201a8"
             ],
             [
              0.3333333333333333,
              "#9c179e"
             ],
             [
              0.4444444444444444,
              "#bd3786"
             ],
             [
              0.5555555555555556,
              "#d8576b"
             ],
             [
              0.6666666666666666,
              "#ed7953"
             ],
             [
              0.7777777777777778,
              "#fb9f3a"
             ],
             [
              0.8888888888888888,
              "#fdca26"
             ],
             [
              1,
              "#f0f921"
             ]
            ],
            "type": "heatmapgl"
           }
          ],
          "histogram": [
           {
            "marker": {
             "pattern": {
              "fillmode": "overlay",
              "size": 10,
              "solidity": 0.2
             }
            },
            "type": "histogram"
           }
          ],
          "histogram2d": [
           {
            "colorbar": {
             "outlinewidth": 0,
             "ticks": ""
            },
            "colorscale": [
             [
              0,
              "#0d0887"
             ],
             [
              0.1111111111111111,
              "#46039f"
             ],
             [
              0.2222222222222222,
              "#7201a8"
             ],
             [
              0.3333333333333333,
              "#9c179e"
             ],
             [
              0.4444444444444444,
              "#bd3786"
             ],
             [
              0.5555555555555556,
              "#d8576b"
             ],
             [
              0.6666666666666666,
              "#ed7953"
             ],
             [
              0.7777777777777778,
              "#fb9f3a"
             ],
             [
              0.8888888888888888,
              "#fdca26"
             ],
             [
              1,
              "#f0f921"
             ]
            ],
            "type": "histogram2d"
           }
          ],
          "histogram2dcontour": [
           {
            "colorbar": {
             "outlinewidth": 0,
             "ticks": ""
            },
            "colorscale": [
             [
              0,
              "#0d0887"
             ],
             [
              0.1111111111111111,
              "#46039f"
             ],
             [
              0.2222222222222222,
              "#7201a8"
             ],
             [
              0.3333333333333333,
              "#9c179e"
             ],
             [
              0.4444444444444444,
              "#bd3786"
             ],
             [
              0.5555555555555556,
              "#d8576b"
             ],
             [
              0.6666666666666666,
              "#ed7953"
             ],
             [
              0.7777777777777778,
              "#fb9f3a"
             ],
             [
              0.8888888888888888,
              "#fdca26"
             ],
             [
              1,
              "#f0f921"
             ]
            ],
            "type": "histogram2dcontour"
           }
          ],
          "mesh3d": [
           {
            "colorbar": {
             "outlinewidth": 0,
             "ticks": ""
            },
            "type": "mesh3d"
           }
          ],
          "parcoords": [
           {
            "line": {
             "colorbar": {
              "outlinewidth": 0,
              "ticks": ""
             }
            },
            "type": "parcoords"
           }
          ],
          "pie": [
           {
            "automargin": true,
            "type": "pie"
           }
          ],
          "scatter": [
           {
            "fillpattern": {
             "fillmode": "overlay",
             "size": 10,
             "solidity": 0.2
            },
            "type": "scatter"
           }
          ],
          "scatter3d": [
           {
            "line": {
             "colorbar": {
              "outlinewidth": 0,
              "ticks": ""
             }
            },
            "marker": {
             "colorbar": {
              "outlinewidth": 0,
              "ticks": ""
             }
            },
            "type": "scatter3d"
           }
          ],
          "scattercarpet": [
           {
            "marker": {
             "colorbar": {
              "outlinewidth": 0,
              "ticks": ""
             }
            },
            "type": "scattercarpet"
           }
          ],
          "scattergeo": [
           {
            "marker": {
             "colorbar": {
              "outlinewidth": 0,
              "ticks": ""
             }
            },
            "type": "scattergeo"
           }
          ],
          "scattergl": [
           {
            "marker": {
             "colorbar": {
              "outlinewidth": 0,
              "ticks": ""
             }
            },
            "type": "scattergl"
           }
          ],
          "scattermapbox": [
           {
            "marker": {
             "colorbar": {
              "outlinewidth": 0,
              "ticks": ""
             }
            },
            "type": "scattermapbox"
           }
          ],
          "scatterpolar": [
           {
            "marker": {
             "colorbar": {
              "outlinewidth": 0,
              "ticks": ""
             }
            },
            "type": "scatterpolar"
           }
          ],
          "scatterpolargl": [
           {
            "marker": {
             "colorbar": {
              "outlinewidth": 0,
              "ticks": ""
             }
            },
            "type": "scatterpolargl"
           }
          ],
          "scatterternary": [
           {
            "marker": {
             "colorbar": {
              "outlinewidth": 0,
              "ticks": ""
             }
            },
            "type": "scatterternary"
           }
          ],
          "surface": [
           {
            "colorbar": {
             "outlinewidth": 0,
             "ticks": ""
            },
            "colorscale": [
             [
              0,
              "#0d0887"
             ],
             [
              0.1111111111111111,
              "#46039f"
             ],
             [
              0.2222222222222222,
              "#7201a8"
             ],
             [
              0.3333333333333333,
              "#9c179e"
             ],
             [
              0.4444444444444444,
              "#bd3786"
             ],
             [
              0.5555555555555556,
              "#d8576b"
             ],
             [
              0.6666666666666666,
              "#ed7953"
             ],
             [
              0.7777777777777778,
              "#fb9f3a"
             ],
             [
              0.8888888888888888,
              "#fdca26"
             ],
             [
              1,
              "#f0f921"
             ]
            ],
            "type": "surface"
           }
          ],
          "table": [
           {
            "cells": {
             "fill": {
              "color": "#EBF0F8"
             },
             "line": {
              "color": "white"
             }
            },
            "header": {
             "fill": {
              "color": "#C8D4E3"
             },
             "line": {
              "color": "white"
             }
            },
            "type": "table"
           }
          ]
         },
         "layout": {
          "annotationdefaults": {
           "arrowcolor": "#2a3f5f",
           "arrowhead": 0,
           "arrowwidth": 1
          },
          "autotypenumbers": "strict",
          "coloraxis": {
           "colorbar": {
            "outlinewidth": 0,
            "ticks": ""
           }
          },
          "colorscale": {
           "diverging": [
            [
             0,
             "#8e0152"
            ],
            [
             0.1,
             "#c51b7d"
            ],
            [
             0.2,
             "#de77ae"
            ],
            [
             0.3,
             "#f1b6da"
            ],
            [
             0.4,
             "#fde0ef"
            ],
            [
             0.5,
             "#f7f7f7"
            ],
            [
             0.6,
             "#e6f5d0"
            ],
            [
             0.7,
             "#b8e186"
            ],
            [
             0.8,
             "#7fbc41"
            ],
            [
             0.9,
             "#4d9221"
            ],
            [
             1,
             "#276419"
            ]
           ],
           "sequential": [
            [
             0,
             "#0d0887"
            ],
            [
             0.1111111111111111,
             "#46039f"
            ],
            [
             0.2222222222222222,
             "#7201a8"
            ],
            [
             0.3333333333333333,
             "#9c179e"
            ],
            [
             0.4444444444444444,
             "#bd3786"
            ],
            [
             0.5555555555555556,
             "#d8576b"
            ],
            [
             0.6666666666666666,
             "#ed7953"
            ],
            [
             0.7777777777777778,
             "#fb9f3a"
            ],
            [
             0.8888888888888888,
             "#fdca26"
            ],
            [
             1,
             "#f0f921"
            ]
           ],
           "sequentialminus": [
            [
             0,
             "#0d0887"
            ],
            [
             0.1111111111111111,
             "#46039f"
            ],
            [
             0.2222222222222222,
             "#7201a8"
            ],
            [
             0.3333333333333333,
             "#9c179e"
            ],
            [
             0.4444444444444444,
             "#bd3786"
            ],
            [
             0.5555555555555556,
             "#d8576b"
            ],
            [
             0.6666666666666666,
             "#ed7953"
            ],
            [
             0.7777777777777778,
             "#fb9f3a"
            ],
            [
             0.8888888888888888,
             "#fdca26"
            ],
            [
             1,
             "#f0f921"
            ]
           ]
          },
          "colorway": [
           "#636efa",
           "#EF553B",
           "#00cc96",
           "#ab63fa",
           "#FFA15A",
           "#19d3f3",
           "#FF6692",
           "#B6E880",
           "#FF97FF",
           "#FECB52"
          ],
          "font": {
           "color": "#2a3f5f"
          },
          "geo": {
           "bgcolor": "white",
           "lakecolor": "white",
           "landcolor": "#E5ECF6",
           "showlakes": true,
           "showland": true,
           "subunitcolor": "white"
          },
          "hoverlabel": {
           "align": "left"
          },
          "hovermode": "closest",
          "mapbox": {
           "style": "light"
          },
          "paper_bgcolor": "white",
          "plot_bgcolor": "#E5ECF6",
          "polar": {
           "angularaxis": {
            "gridcolor": "white",
            "linecolor": "white",
            "ticks": ""
           },
           "bgcolor": "#E5ECF6",
           "radialaxis": {
            "gridcolor": "white",
            "linecolor": "white",
            "ticks": ""
           }
          },
          "scene": {
           "xaxis": {
            "backgroundcolor": "#E5ECF6",
            "gridcolor": "white",
            "gridwidth": 2,
            "linecolor": "white",
            "showbackground": true,
            "ticks": "",
            "zerolinecolor": "white"
           },
           "yaxis": {
            "backgroundcolor": "#E5ECF6",
            "gridcolor": "white",
            "gridwidth": 2,
            "linecolor": "white",
            "showbackground": true,
            "ticks": "",
            "zerolinecolor": "white"
           },
           "zaxis": {
            "backgroundcolor": "#E5ECF6",
            "gridcolor": "white",
            "gridwidth": 2,
            "linecolor": "white",
            "showbackground": true,
            "ticks": "",
            "zerolinecolor": "white"
           }
          },
          "shapedefaults": {
           "line": {
            "color": "#2a3f5f"
           }
          },
          "ternary": {
           "aaxis": {
            "gridcolor": "white",
            "linecolor": "white",
            "ticks": ""
           },
           "baxis": {
            "gridcolor": "white",
            "linecolor": "white",
            "ticks": ""
           },
           "bgcolor": "#E5ECF6",
           "caxis": {
            "gridcolor": "white",
            "linecolor": "white",
            "ticks": ""
           }
          },
          "title": {
           "x": 0.05
          },
          "xaxis": {
           "automargin": true,
           "gridcolor": "white",
           "linecolor": "white",
           "ticks": "",
           "title": {
            "standoff": 15
           },
           "zerolinecolor": "white",
           "zerolinewidth": 2
          },
          "yaxis": {
           "automargin": true,
           "gridcolor": "white",
           "linecolor": "white",
           "ticks": "",
           "title": {
            "standoff": 15
           },
           "zerolinecolor": "white",
           "zerolinewidth": 2
          }
         }
        },
        "title": {
         "text": "Alanine Dipeptide Structure - Original (transparent) vs Phi Rotated"
        }
       }
      },
      "text/html": [
       "<div>                            <div id=\"5e193d8f-3044-4fa3-bdfb-9a1769c24b81\" class=\"plotly-graph-div\" style=\"height:525px; width:100%;\"></div>            <script type=\"text/javascript\">                require([\"plotly\"], function(Plotly) {                    window.PLOTLYENV=window.PLOTLYENV || {};                                    if (document.getElementById(\"5e193d8f-3044-4fa3-bdfb-9a1769c24b81\")) {                    Plotly.newPlot(                        \"5e193d8f-3044-4fa3-bdfb-9a1769c24b81\",                        [{\"hoverinfo\":\"text\",\"marker\":{\"color\":[\"lightgray\",\"black\",\"lightgray\",\"lightgray\",\"black\",\"red\",\"blue\",\"lightgray\",\"black\",\"lightgray\",\"black\",\"lightgray\",\"lightgray\",\"lightgray\",\"black\",\"red\",\"blue\",\"lightgray\",\"black\",\"lightgray\",\"lightgray\",\"lightgray\"],\"opacity\":0.3,\"size\":10},\"mode\":\"markers\",\"text\":[\"Original 0: HH31 from ACE (residue 1)\",\"Original 1: CH3 from ACE (residue 1)\",\"Original 2: HH32 from ACE (residue 1)\",\"Original 3: HH33 from ACE (residue 1)\",\"Original 4: C from ACE (residue 1)\",\"Original 5: O from ACE (residue 1)\",\"Original 6: N from ALA (residue 2)\",\"Original 7: H from ALA (residue 2)\",\"Original 8: CA from ALA (residue 2)\",\"Original 9: HA from ALA (residue 2)\",\"Original 10: CB from ALA (residue 2)\",\"Original 11: HB1 from ALA (residue 2)\",\"Original 12: HB2 from ALA (residue 2)\",\"Original 13: HB3 from ALA (residue 2)\",\"Original 14: C from ALA (residue 2)\",\"Original 15: O from ALA (residue 2)\",\"Original 16: N from NME (residue 3)\",\"Original 17: H from NME (residue 3)\",\"Original 18: CH3 from NME (residue 3)\",\"Original 19: HH31 from NME (residue 3)\",\"Original 20: HH32 from NME (residue 3)\",\"Original 21: HH33 from NME (residue 3)\"],\"x\":[3.2249999046325684,3.7200000286102295,4.0879998207092285,4.557000160217285,2.7699999809265137,1.600000023841858,3.2699999809265137,4.258999824523926,2.4800000190734863,1.7330000400543213,3.4700000286102295,4.218999862670898,2.921999931335449,3.9630000591278076,1.7300000190734863,2.3399999141693115,0.4000000059604645,-0.00800000037997961,-0.4699999988079071,0.1120000034570694,-1.2899999618530273,-0.8730000257492065],\"y\":[27.427000045776367,26.56999969482422,25.905000686645508,26.913999557495117,25.799999237060547,26.149999618530273,24.639999389648438,24.47100067138672,23.690000534057617,24.315000534057617,23.15999984741211,22.524999618530273,22.582000732421875,24.00200080871582,22.59000015258789,21.8799991607666,22.43000030517578,23.118000030517578,21.350000381469727,20.69300079345703,21.785999298095703,20.774999618530273],\"z\":[2.565999984741211,2.109999895095825,2.8910000324249268,1.5019999742507935,1.2300000190734863,1.090000033378601,0.6899999976158142,0.8100000023841858,-0.1899999976158142,-0.6790000200271606,-1.2699999809265137,-0.796999990940094,-2.0139999389648438,-1.75600004196167,0.49000000953674316,1.2799999713897705,0.20999999344348907,-0.40700000524520874,0.7300000190734863,1.3760000467300415,1.2999999523162842,-0.10300000011920929],\"type\":\"scatter3d\"},{\"hoverinfo\":\"text\",\"marker\":{\"color\":[\"lightgray\",\"black\",\"lightgray\",\"lightgray\",\"black\",\"red\",\"blue\",\"lightgray\",\"black\",\"lightgray\",\"black\",\"lightgray\",\"lightgray\",\"lightgray\",\"black\",\"red\",\"blue\",\"lightgray\",\"black\",\"lightgray\",\"lightgray\",\"lightgray\"],\"opacity\":0.8,\"size\":10},\"mode\":\"markers\",\"text\":[\"Rotated 0: HH31 from ACE (residue 1)\",\"Rotated 1: CH3 from ACE (residue 1)\",\"Rotated 2: HH32 from ACE (residue 1)\",\"Rotated 3: HH33 from ACE (residue 1)\",\"Rotated 4: C from ACE (residue 1)\",\"Rotated 5: O from ACE (residue 1)\",\"Rotated 6: N from ALA (residue 2)\",\"Rotated 7: H from ALA (residue 2)\",\"Rotated 8: CA from ALA (residue 2)\",\"Rotated 9: HA from ALA (residue 2)\",\"Rotated 10: CB from ALA (residue 2)\",\"Rotated 11: HB1 from ALA (residue 2)\",\"Rotated 12: HB2 from ALA (residue 2)\",\"Rotated 13: HB3 from ALA (residue 2)\",\"Rotated 14: C from ALA (residue 2)\",\"Rotated 15: O from ALA (residue 2)\",\"Rotated 16: N from NME (residue 3)\",\"Rotated 17: H from NME (residue 3)\",\"Rotated 18: CH3 from NME (residue 3)\",\"Rotated 19: HH31 from NME (residue 3)\",\"Rotated 20: HH32 from NME (residue 3)\",\"Rotated 21: HH33 from NME (residue 3)\"],\"x\":[3.2249999046325684,3.7200000286102295,4.0879998207092285,4.557000160217285,2.668682336807251,2.2633023262023926,1.8444383144378662,2.2836694717407227,0.36797839403152466,0.25722160935401917,0.06768206506967545,0.16570156812667847,-0.9472503066062927,0.7745257019996643,-0.5936358571052551,-0.5020621418952942,-1.5233055353164673,-1.4579050540924072,-2.5952069759368896,-2.534339666366577,-2.4750664234161377,-3.5662319660186768],\"y\":[27.427000045776367,26.56999969482422,25.905000686645508,26.913999557495117,27.387969970703125,28.3873233795166,26.57254981994629,25.81005859375,26.82832908630371,27.910961151123047,26.37493896484375,25.291833877563477,26.666135787963867,26.849328994750977,26.252050399780273,25.059589385986328,27.07797622680664,28.055334091186523,26.660053253173828,25.584701538085938,27.181283950805664,26.906129837036133],\"z\":[2.565999984741211,2.109999895095825,2.8910000324249268,1.5019999742507935,2.3493244647979736,2.9392051696777344,1.6124992370605469,1.1157433986663818,1.376617193222046,1.4348807334899902,-0.0834035575389862,-0.15572230517864227,-0.3536630868911743,-0.7642395496368408,2.365607738494873,2.6300899982452393,2.936976909637451,2.690018892288208,3.869750738143921,4.035888671875,4.819107532501221,3.441404342651367],\"type\":\"scatter3d\"},{\"hoverinfo\":\"none\",\"line\":{\"color\":\"gray\",\"width\":5},\"mode\":\"lines\",\"opacity\":0.3,\"x\":[3.2249999046325684,3.7200000286102295],\"y\":[27.427000045776367,26.56999969482422],\"z\":[2.565999984741211,2.109999895095825],\"type\":\"scatter3d\"},{\"hoverinfo\":\"none\",\"line\":{\"color\":\"gray\",\"width\":5},\"mode\":\"lines\",\"opacity\":0.3,\"x\":[3.7200000286102295,4.0879998207092285],\"y\":[26.56999969482422,25.905000686645508],\"z\":[2.109999895095825,2.8910000324249268],\"type\":\"scatter3d\"},{\"hoverinfo\":\"none\",\"line\":{\"color\":\"gray\",\"width\":5},\"mode\":\"lines\",\"opacity\":0.3,\"x\":[3.7200000286102295,4.557000160217285],\"y\":[26.56999969482422,26.913999557495117],\"z\":[2.109999895095825,1.5019999742507935],\"type\":\"scatter3d\"},{\"hoverinfo\":\"none\",\"line\":{\"color\":\"gray\",\"width\":5},\"mode\":\"lines\",\"opacity\":0.3,\"x\":[3.7200000286102295,2.7699999809265137],\"y\":[26.56999969482422,25.799999237060547],\"z\":[2.109999895095825,1.2300000190734863],\"type\":\"scatter3d\"},{\"hoverinfo\":\"none\",\"line\":{\"color\":\"gray\",\"width\":5},\"mode\":\"lines\",\"opacity\":0.3,\"x\":[2.7699999809265137,1.600000023841858],\"y\":[25.799999237060547,26.149999618530273],\"z\":[1.2300000190734863,1.090000033378601],\"type\":\"scatter3d\"},{\"hoverinfo\":\"none\",\"line\":{\"color\":\"gray\",\"width\":5},\"mode\":\"lines\",\"opacity\":0.3,\"x\":[2.7699999809265137,3.2699999809265137],\"y\":[25.799999237060547,24.639999389648438],\"z\":[1.2300000190734863,0.6899999976158142],\"type\":\"scatter3d\"},{\"hoverinfo\":\"none\",\"line\":{\"color\":\"gray\",\"width\":5},\"mode\":\"lines\",\"opacity\":0.3,\"x\":[3.2699999809265137,4.258999824523926],\"y\":[24.639999389648438,24.47100067138672],\"z\":[0.6899999976158142,0.8100000023841858],\"type\":\"scatter3d\"},{\"hoverinfo\":\"none\",\"line\":{\"color\":\"gray\",\"width\":5},\"mode\":\"lines\",\"opacity\":0.3,\"x\":[3.2699999809265137,2.4800000190734863],\"y\":[24.639999389648438,23.690000534057617],\"z\":[0.6899999976158142,-0.1899999976158142],\"type\":\"scatter3d\"},{\"hoverinfo\":\"none\",\"line\":{\"color\":\"gray\",\"width\":5},\"mode\":\"lines\",\"opacity\":0.3,\"x\":[2.4800000190734863,1.7330000400543213],\"y\":[23.690000534057617,24.315000534057617],\"z\":[-0.1899999976158142,-0.6790000200271606],\"type\":\"scatter3d\"},{\"hoverinfo\":\"none\",\"line\":{\"color\":\"gray\",\"width\":5},\"mode\":\"lines\",\"opacity\":0.3,\"x\":[2.4800000190734863,3.4700000286102295],\"y\":[23.690000534057617,23.15999984741211],\"z\":[-0.1899999976158142,-1.2699999809265137],\"type\":\"scatter3d\"},{\"hoverinfo\":\"none\",\"line\":{\"color\":\"gray\",\"width\":5},\"mode\":\"lines\",\"opacity\":0.3,\"x\":[2.4800000190734863,1.7300000190734863],\"y\":[23.690000534057617,22.59000015258789],\"z\":[-0.1899999976158142,0.49000000953674316],\"type\":\"scatter3d\"},{\"hoverinfo\":\"none\",\"line\":{\"color\":\"gray\",\"width\":5},\"mode\":\"lines\",\"opacity\":0.3,\"x\":[3.4700000286102295,4.218999862670898],\"y\":[23.15999984741211,22.524999618530273],\"z\":[-1.2699999809265137,-0.796999990940094],\"type\":\"scatter3d\"},{\"hoverinfo\":\"none\",\"line\":{\"color\":\"gray\",\"width\":5},\"mode\":\"lines\",\"opacity\":0.3,\"x\":[3.4700000286102295,2.921999931335449],\"y\":[23.15999984741211,22.582000732421875],\"z\":[-1.2699999809265137,-2.0139999389648438],\"type\":\"scatter3d\"},{\"hoverinfo\":\"none\",\"line\":{\"color\":\"gray\",\"width\":5},\"mode\":\"lines\",\"opacity\":0.3,\"x\":[3.4700000286102295,3.9630000591278076],\"y\":[23.15999984741211,24.00200080871582],\"z\":[-1.2699999809265137,-1.75600004196167],\"type\":\"scatter3d\"},{\"hoverinfo\":\"none\",\"line\":{\"color\":\"gray\",\"width\":5},\"mode\":\"lines\",\"opacity\":0.3,\"x\":[1.7300000190734863,2.3399999141693115],\"y\":[22.59000015258789,21.8799991607666],\"z\":[0.49000000953674316,1.2799999713897705],\"type\":\"scatter3d\"},{\"hoverinfo\":\"none\",\"line\":{\"color\":\"gray\",\"width\":5},\"mode\":\"lines\",\"opacity\":0.3,\"x\":[1.7300000190734863,0.4000000059604645],\"y\":[22.59000015258789,22.43000030517578],\"z\":[0.49000000953674316,0.20999999344348907],\"type\":\"scatter3d\"},{\"hoverinfo\":\"none\",\"line\":{\"color\":\"gray\",\"width\":5},\"mode\":\"lines\",\"opacity\":0.3,\"x\":[0.4000000059604645,-0.00800000037997961],\"y\":[22.43000030517578,23.118000030517578],\"z\":[0.20999999344348907,-0.40700000524520874],\"type\":\"scatter3d\"},{\"hoverinfo\":\"none\",\"line\":{\"color\":\"gray\",\"width\":5},\"mode\":\"lines\",\"opacity\":0.3,\"x\":[0.4000000059604645,-0.4699999988079071],\"y\":[22.43000030517578,21.350000381469727],\"z\":[0.20999999344348907,0.7300000190734863],\"type\":\"scatter3d\"},{\"hoverinfo\":\"none\",\"line\":{\"color\":\"gray\",\"width\":5},\"mode\":\"lines\",\"opacity\":0.3,\"x\":[-0.4699999988079071,0.1120000034570694],\"y\":[21.350000381469727,20.69300079345703],\"z\":[0.7300000190734863,1.3760000467300415],\"type\":\"scatter3d\"},{\"hoverinfo\":\"none\",\"line\":{\"color\":\"gray\",\"width\":5},\"mode\":\"lines\",\"opacity\":0.3,\"x\":[-0.4699999988079071,-1.2899999618530273],\"y\":[21.350000381469727,21.785999298095703],\"z\":[0.7300000190734863,1.2999999523162842],\"type\":\"scatter3d\"},{\"hoverinfo\":\"none\",\"line\":{\"color\":\"gray\",\"width\":5},\"mode\":\"lines\",\"opacity\":0.3,\"x\":[-0.4699999988079071,-0.8730000257492065],\"y\":[21.350000381469727,20.774999618530273],\"z\":[0.7300000190734863,-0.10300000011920929],\"type\":\"scatter3d\"},{\"hoverinfo\":\"none\",\"line\":{\"color\":\"gray\",\"width\":5},\"mode\":\"lines\",\"x\":[3.2249999046325684,3.7200000286102295],\"y\":[27.427000045776367,26.56999969482422],\"z\":[2.565999984741211,2.109999895095825],\"type\":\"scatter3d\"},{\"hoverinfo\":\"none\",\"line\":{\"color\":\"gray\",\"width\":5},\"mode\":\"lines\",\"x\":[3.7200000286102295,4.0879998207092285],\"y\":[26.56999969482422,25.905000686645508],\"z\":[2.109999895095825,2.8910000324249268],\"type\":\"scatter3d\"},{\"hoverinfo\":\"none\",\"line\":{\"color\":\"gray\",\"width\":5},\"mode\":\"lines\",\"x\":[3.7200000286102295,4.557000160217285],\"y\":[26.56999969482422,26.913999557495117],\"z\":[2.109999895095825,1.5019999742507935],\"type\":\"scatter3d\"},{\"hoverinfo\":\"none\",\"line\":{\"color\":\"gray\",\"width\":5},\"mode\":\"lines\",\"x\":[3.7200000286102295,2.668682336807251],\"y\":[26.56999969482422,27.387969970703125],\"z\":[2.109999895095825,2.3493244647979736],\"type\":\"scatter3d\"},{\"hoverinfo\":\"none\",\"line\":{\"color\":\"gray\",\"width\":5},\"mode\":\"lines\",\"x\":[2.668682336807251,2.2633023262023926],\"y\":[27.387969970703125,28.3873233795166],\"z\":[2.3493244647979736,2.9392051696777344],\"type\":\"scatter3d\"},{\"hoverinfo\":\"none\",\"line\":{\"color\":\"gray\",\"width\":5},\"mode\":\"lines\",\"x\":[2.668682336807251,1.8444383144378662],\"y\":[27.387969970703125,26.57254981994629],\"z\":[2.3493244647979736,1.6124992370605469],\"type\":\"scatter3d\"},{\"hoverinfo\":\"none\",\"line\":{\"color\":\"gray\",\"width\":5},\"mode\":\"lines\",\"x\":[1.8444383144378662,2.2836694717407227],\"y\":[26.57254981994629,25.81005859375],\"z\":[1.6124992370605469,1.1157433986663818],\"type\":\"scatter3d\"},{\"hoverinfo\":\"none\",\"line\":{\"color\":\"gray\",\"width\":5},\"mode\":\"lines\",\"x\":[1.8444383144378662,0.36797839403152466],\"y\":[26.57254981994629,26.82832908630371],\"z\":[1.6124992370605469,1.376617193222046],\"type\":\"scatter3d\"},{\"hoverinfo\":\"none\",\"line\":{\"color\":\"gray\",\"width\":5},\"mode\":\"lines\",\"x\":[0.36797839403152466,0.25722160935401917],\"y\":[26.82832908630371,27.910961151123047],\"z\":[1.376617193222046,1.4348807334899902],\"type\":\"scatter3d\"},{\"hoverinfo\":\"none\",\"line\":{\"color\":\"gray\",\"width\":5},\"mode\":\"lines\",\"x\":[0.36797839403152466,0.06768206506967545],\"y\":[26.82832908630371,26.37493896484375],\"z\":[1.376617193222046,-0.0834035575389862],\"type\":\"scatter3d\"},{\"hoverinfo\":\"none\",\"line\":{\"color\":\"gray\",\"width\":5},\"mode\":\"lines\",\"x\":[0.36797839403152466,-0.5936358571052551],\"y\":[26.82832908630371,26.252050399780273],\"z\":[1.376617193222046,2.365607738494873],\"type\":\"scatter3d\"},{\"hoverinfo\":\"none\",\"line\":{\"color\":\"gray\",\"width\":5},\"mode\":\"lines\",\"x\":[0.06768206506967545,0.16570156812667847],\"y\":[26.37493896484375,25.291833877563477],\"z\":[-0.0834035575389862,-0.15572230517864227],\"type\":\"scatter3d\"},{\"hoverinfo\":\"none\",\"line\":{\"color\":\"gray\",\"width\":5},\"mode\":\"lines\",\"x\":[0.06768206506967545,-0.9472503066062927],\"y\":[26.37493896484375,26.666135787963867],\"z\":[-0.0834035575389862,-0.3536630868911743],\"type\":\"scatter3d\"},{\"hoverinfo\":\"none\",\"line\":{\"color\":\"gray\",\"width\":5},\"mode\":\"lines\",\"x\":[0.06768206506967545,0.7745257019996643],\"y\":[26.37493896484375,26.849328994750977],\"z\":[-0.0834035575389862,-0.7642395496368408],\"type\":\"scatter3d\"},{\"hoverinfo\":\"none\",\"line\":{\"color\":\"gray\",\"width\":5},\"mode\":\"lines\",\"x\":[-0.5936358571052551,-0.5020621418952942],\"y\":[26.252050399780273,25.059589385986328],\"z\":[2.365607738494873,2.6300899982452393],\"type\":\"scatter3d\"},{\"hoverinfo\":\"none\",\"line\":{\"color\":\"gray\",\"width\":5},\"mode\":\"lines\",\"x\":[-0.5936358571052551,-1.5233055353164673],\"y\":[26.252050399780273,27.07797622680664],\"z\":[2.365607738494873,2.936976909637451],\"type\":\"scatter3d\"},{\"hoverinfo\":\"none\",\"line\":{\"color\":\"gray\",\"width\":5},\"mode\":\"lines\",\"x\":[-1.5233055353164673,-1.4579050540924072],\"y\":[27.07797622680664,28.055334091186523],\"z\":[2.936976909637451,2.690018892288208],\"type\":\"scatter3d\"},{\"hoverinfo\":\"none\",\"line\":{\"color\":\"gray\",\"width\":5},\"mode\":\"lines\",\"x\":[-1.5233055353164673,-2.5952069759368896],\"y\":[27.07797622680664,26.660053253173828],\"z\":[2.936976909637451,3.869750738143921],\"type\":\"scatter3d\"},{\"hoverinfo\":\"none\",\"line\":{\"color\":\"gray\",\"width\":5},\"mode\":\"lines\",\"x\":[-2.5952069759368896,-2.534339666366577],\"y\":[26.660053253173828,25.584701538085938],\"z\":[3.869750738143921,4.035888671875],\"type\":\"scatter3d\"},{\"hoverinfo\":\"none\",\"line\":{\"color\":\"gray\",\"width\":5},\"mode\":\"lines\",\"x\":[-2.5952069759368896,-2.4750664234161377],\"y\":[26.660053253173828,27.181283950805664],\"z\":[3.869750738143921,4.819107532501221],\"type\":\"scatter3d\"},{\"hoverinfo\":\"none\",\"line\":{\"color\":\"gray\",\"width\":5},\"mode\":\"lines\",\"x\":[-2.5952069759368896,-3.5662319660186768],\"y\":[26.660053253173828,26.906129837036133],\"z\":[3.869750738143921,3.441404342651367],\"type\":\"scatter3d\"}],                        {\"template\":{\"data\":{\"histogram2dcontour\":[{\"type\":\"histogram2dcontour\",\"colorbar\":{\"outlinewidth\":0,\"ticks\":\"\"},\"colorscale\":[[0.0,\"#0d0887\"],[0.1111111111111111,\"#46039f\"],[0.2222222222222222,\"#7201a8\"],[0.3333333333333333,\"#9c179e\"],[0.4444444444444444,\"#bd3786\"],[0.5555555555555556,\"#d8576b\"],[0.6666666666666666,\"#ed7953\"],[0.7777777777777778,\"#fb9f3a\"],[0.8888888888888888,\"#fdca26\"],[1.0,\"#f0f921\"]]}],\"choropleth\":[{\"type\":\"choropleth\",\"colorbar\":{\"outlinewidth\":0,\"ticks\":\"\"}}],\"histogram2d\":[{\"type\":\"histogram2d\",\"colorbar\":{\"outlinewidth\":0,\"ticks\":\"\"},\"colorscale\":[[0.0,\"#0d0887\"],[0.1111111111111111,\"#46039f\"],[0.2222222222222222,\"#7201a8\"],[0.3333333333333333,\"#9c179e\"],[0.4444444444444444,\"#bd3786\"],[0.5555555555555556,\"#d8576b\"],[0.6666666666666666,\"#ed7953\"],[0.7777777777777778,\"#fb9f3a\"],[0.8888888888888888,\"#fdca26\"],[1.0,\"#f0f921\"]]}],\"heatmap\":[{\"type\":\"heatmap\",\"colorbar\":{\"outlinewidth\":0,\"ticks\":\"\"},\"colorscale\":[[0.0,\"#0d0887\"],[0.1111111111111111,\"#46039f\"],[0.2222222222222222,\"#7201a8\"],[0.3333333333333333,\"#9c179e\"],[0.4444444444444444,\"#bd3786\"],[0.5555555555555556,\"#d8576b\"],[0.6666666666666666,\"#ed7953\"],[0.7777777777777778,\"#fb9f3a\"],[0.8888888888888888,\"#fdca26\"],[1.0,\"#f0f921\"]]}],\"heatmapgl\":[{\"type\":\"heatmapgl\",\"colorbar\":{\"outlinewidth\":0,\"ticks\":\"\"},\"colorscale\":[[0.0,\"#0d0887\"],[0.1111111111111111,\"#46039f\"],[0.2222222222222222,\"#7201a8\"],[0.3333333333333333,\"#9c179e\"],[0.4444444444444444,\"#bd3786\"],[0.5555555555555556,\"#d8576b\"],[0.6666666666666666,\"#ed7953\"],[0.7777777777777778,\"#fb9f3a\"],[0.8888888888888888,\"#fdca26\"],[1.0,\"#f0f921\"]]}],\"contourcarpet\":[{\"type\":\"contourcarpet\",\"colorbar\":{\"outlinewidth\":0,\"ticks\":\"\"}}],\"contour\":[{\"type\":\"contour\",\"colorbar\":{\"outlinewidth\":0,\"ticks\":\"\"},\"colorscale\":[[0.0,\"#0d0887\"],[0.1111111111111111,\"#46039f\"],[0.2222222222222222,\"#7201a8\"],[0.3333333333333333,\"#9c179e\"],[0.4444444444444444,\"#bd3786\"],[0.5555555555555556,\"#d8576b\"],[0.6666666666666666,\"#ed7953\"],[0.7777777777777778,\"#fb9f3a\"],[0.8888888888888888,\"#fdca26\"],[1.0,\"#f0f921\"]]}],\"surface\":[{\"type\":\"surface\",\"colorbar\":{\"outlinewidth\":0,\"ticks\":\"\"},\"colorscale\":[[0.0,\"#0d0887\"],[0.1111111111111111,\"#46039f\"],[0.2222222222222222,\"#7201a8\"],[0.3333333333333333,\"#9c179e\"],[0.4444444444444444,\"#bd3786\"],[0.5555555555555556,\"#d8576b\"],[0.6666666666666666,\"#ed7953\"],[0.7777777777777778,\"#fb9f3a\"],[0.8888888888888888,\"#fdca26\"],[1.0,\"#f0f921\"]]}],\"mesh3d\":[{\"type\":\"mesh3d\",\"colorbar\":{\"outlinewidth\":0,\"ticks\":\"\"}}],\"scatter\":[{\"fillpattern\":{\"fillmode\":\"overlay\",\"size\":10,\"solidity\":0.2},\"type\":\"scatter\"}],\"parcoords\":[{\"type\":\"parcoords\",\"line\":{\"colorbar\":{\"outlinewidth\":0,\"ticks\":\"\"}}}],\"scatterpolargl\":[{\"type\":\"scatterpolargl\",\"marker\":{\"colorbar\":{\"outlinewidth\":0,\"ticks\":\"\"}}}],\"bar\":[{\"error_x\":{\"color\":\"#2a3f5f\"},\"error_y\":{\"color\":\"#2a3f5f\"},\"marker\":{\"line\":{\"color\":\"#E5ECF6\",\"width\":0.5},\"pattern\":{\"fillmode\":\"overlay\",\"size\":10,\"solidity\":0.2}},\"type\":\"bar\"}],\"scattergeo\":[{\"type\":\"scattergeo\",\"marker\":{\"colorbar\":{\"outlinewidth\":0,\"ticks\":\"\"}}}],\"scatterpolar\":[{\"type\":\"scatterpolar\",\"marker\":{\"colorbar\":{\"outlinewidth\":0,\"ticks\":\"\"}}}],\"histogram\":[{\"marker\":{\"pattern\":{\"fillmode\":\"overlay\",\"size\":10,\"solidity\":0.2}},\"type\":\"histogram\"}],\"scattergl\":[{\"type\":\"scattergl\",\"marker\":{\"colorbar\":{\"outlinewidth\":0,\"ticks\":\"\"}}}],\"scatter3d\":[{\"type\":\"scatter3d\",\"line\":{\"colorbar\":{\"outlinewidth\":0,\"ticks\":\"\"}},\"marker\":{\"colorbar\":{\"outlinewidth\":0,\"ticks\":\"\"}}}],\"scattermapbox\":[{\"type\":\"scattermapbox\",\"marker\":{\"colorbar\":{\"outlinewidth\":0,\"ticks\":\"\"}}}],\"scatterternary\":[{\"type\":\"scatterternary\",\"marker\":{\"colorbar\":{\"outlinewidth\":0,\"ticks\":\"\"}}}],\"scattercarpet\":[{\"type\":\"scattercarpet\",\"marker\":{\"colorbar\":{\"outlinewidth\":0,\"ticks\":\"\"}}}],\"carpet\":[{\"aaxis\":{\"endlinecolor\":\"#2a3f5f\",\"gridcolor\":\"white\",\"linecolor\":\"white\",\"minorgridcolor\":\"white\",\"startlinecolor\":\"#2a3f5f\"},\"baxis\":{\"endlinecolor\":\"#2a3f5f\",\"gridcolor\":\"white\",\"linecolor\":\"white\",\"minorgridcolor\":\"white\",\"startlinecolor\":\"#2a3f5f\"},\"type\":\"carpet\"}],\"table\":[{\"cells\":{\"fill\":{\"color\":\"#EBF0F8\"},\"line\":{\"color\":\"white\"}},\"header\":{\"fill\":{\"color\":\"#C8D4E3\"},\"line\":{\"color\":\"white\"}},\"type\":\"table\"}],\"barpolar\":[{\"marker\":{\"line\":{\"color\":\"#E5ECF6\",\"width\":0.5},\"pattern\":{\"fillmode\":\"overlay\",\"size\":10,\"solidity\":0.2}},\"type\":\"barpolar\"}],\"pie\":[{\"automargin\":true,\"type\":\"pie\"}]},\"layout\":{\"autotypenumbers\":\"strict\",\"colorway\":[\"#636efa\",\"#EF553B\",\"#00cc96\",\"#ab63fa\",\"#FFA15A\",\"#19d3f3\",\"#FF6692\",\"#B6E880\",\"#FF97FF\",\"#FECB52\"],\"font\":{\"color\":\"#2a3f5f\"},\"hovermode\":\"closest\",\"hoverlabel\":{\"align\":\"left\"},\"paper_bgcolor\":\"white\",\"plot_bgcolor\":\"#E5ECF6\",\"polar\":{\"bgcolor\":\"#E5ECF6\",\"angularaxis\":{\"gridcolor\":\"white\",\"linecolor\":\"white\",\"ticks\":\"\"},\"radialaxis\":{\"gridcolor\":\"white\",\"linecolor\":\"white\",\"ticks\":\"\"}},\"ternary\":{\"bgcolor\":\"#E5ECF6\",\"aaxis\":{\"gridcolor\":\"white\",\"linecolor\":\"white\",\"ticks\":\"\"},\"baxis\":{\"gridcolor\":\"white\",\"linecolor\":\"white\",\"ticks\":\"\"},\"caxis\":{\"gridcolor\":\"white\",\"linecolor\":\"white\",\"ticks\":\"\"}},\"coloraxis\":{\"colorbar\":{\"outlinewidth\":0,\"ticks\":\"\"}},\"colorscale\":{\"sequential\":[[0.0,\"#0d0887\"],[0.1111111111111111,\"#46039f\"],[0.2222222222222222,\"#7201a8\"],[0.3333333333333333,\"#9c179e\"],[0.4444444444444444,\"#bd3786\"],[0.5555555555555556,\"#d8576b\"],[0.6666666666666666,\"#ed7953\"],[0.7777777777777778,\"#fb9f3a\"],[0.8888888888888888,\"#fdca26\"],[1.0,\"#f0f921\"]],\"sequentialminus\":[[0.0,\"#0d0887\"],[0.1111111111111111,\"#46039f\"],[0.2222222222222222,\"#7201a8\"],[0.3333333333333333,\"#9c179e\"],[0.4444444444444444,\"#bd3786\"],[0.5555555555555556,\"#d8576b\"],[0.6666666666666666,\"#ed7953\"],[0.7777777777777778,\"#fb9f3a\"],[0.8888888888888888,\"#fdca26\"],[1.0,\"#f0f921\"]],\"diverging\":[[0,\"#8e0152\"],[0.1,\"#c51b7d\"],[0.2,\"#de77ae\"],[0.3,\"#f1b6da\"],[0.4,\"#fde0ef\"],[0.5,\"#f7f7f7\"],[0.6,\"#e6f5d0\"],[0.7,\"#b8e186\"],[0.8,\"#7fbc41\"],[0.9,\"#4d9221\"],[1,\"#276419\"]]},\"xaxis\":{\"gridcolor\":\"white\",\"linecolor\":\"white\",\"ticks\":\"\",\"title\":{\"standoff\":15},\"zerolinecolor\":\"white\",\"automargin\":true,\"zerolinewidth\":2},\"yaxis\":{\"gridcolor\":\"white\",\"linecolor\":\"white\",\"ticks\":\"\",\"title\":{\"standoff\":15},\"zerolinecolor\":\"white\",\"automargin\":true,\"zerolinewidth\":2},\"scene\":{\"xaxis\":{\"backgroundcolor\":\"#E5ECF6\",\"gridcolor\":\"white\",\"linecolor\":\"white\",\"showbackground\":true,\"ticks\":\"\",\"zerolinecolor\":\"white\",\"gridwidth\":2},\"yaxis\":{\"backgroundcolor\":\"#E5ECF6\",\"gridcolor\":\"white\",\"linecolor\":\"white\",\"showbackground\":true,\"ticks\":\"\",\"zerolinecolor\":\"white\",\"gridwidth\":2},\"zaxis\":{\"backgroundcolor\":\"#E5ECF6\",\"gridcolor\":\"white\",\"linecolor\":\"white\",\"showbackground\":true,\"ticks\":\"\",\"zerolinecolor\":\"white\",\"gridwidth\":2}},\"shapedefaults\":{\"line\":{\"color\":\"#2a3f5f\"}},\"annotationdefaults\":{\"arrowcolor\":\"#2a3f5f\",\"arrowhead\":0,\"arrowwidth\":1},\"geo\":{\"bgcolor\":\"white\",\"landcolor\":\"#E5ECF6\",\"subunitcolor\":\"white\",\"showland\":true,\"showlakes\":true,\"lakecolor\":\"white\"},\"title\":{\"x\":0.05},\"mapbox\":{\"style\":\"light\"}}},\"title\":{\"text\":\"Alanine Dipeptide Structure - Original (transparent) vs Phi Rotated\"},\"scene\":{\"xaxis\":{\"title\":{\"text\":\"X (\\u00c5)\"}},\"yaxis\":{\"title\":{\"text\":\"Y (\\u00c5)\"}},\"zaxis\":{\"title\":{\"text\":\"Z (\\u00c5)\"}}},\"showlegend\":false},                        {\"responsive\": true}                    ).then(function(){\n",
       "                            \n",
       "var gd = document.getElementById('5e193d8f-3044-4fa3-bdfb-9a1769c24b81');\n",
       "var x = new MutationObserver(function (mutations, observer) {{\n",
       "        var display = window.getComputedStyle(gd).display;\n",
       "        if (!display || display === 'none') {{\n",
       "            console.log([gd, 'removed!']);\n",
       "            Plotly.purge(gd);\n",
       "            observer.disconnect();\n",
       "        }}\n",
       "}});\n",
       "\n",
       "// Listen for the removal of the full notebook cells\n",
       "var notebookContainer = gd.closest('#notebook-container');\n",
       "if (notebookContainer) {{\n",
       "    x.observe(notebookContainer, {childList: true});\n",
       "}}\n",
       "\n",
       "// Listen for the clearing of the current output cell\n",
       "var outputEl = gd.closest('.output');\n",
       "if (outputEl) {{\n",
       "    x.observe(outputEl, {childList: true});\n",
       "}}\n",
       "\n",
       "                        })                };                });            </script>        </div>"
      ]
     },
     "metadata": {},
     "output_type": "display_data"
    }
   ],
   "source": []
  },
  {
   "cell_type": "code",
   "execution_count": 92,
   "metadata": {},
   "outputs": [
    {
     "name": "stdout",
     "output_type": "stream",
     "text": [
      "indices for phi: [('X', 1, 'C'), ('X', 2, 'N'), ('X', 2, 'CA'), ('X', 2, 'C')]\n",
      "Current φ: -90.00°; rotating by 90.00° to 0.00°\n",
      "indices for psi: [('X', 2, 'N'), ('X', 2, 'CA'), ('X', 2, 'C'), ('X', 3, 'N')]\n",
      "Current ψ: 127.81°; rotating by 0.00° to 127.81°\n"
     ]
    },
    {
     "data": {
      "application/3dmoljs_load.v0": "<div id=\"3dmolviewer_17395345710277288\"  style=\"position: relative; width: 800px; height: 400px;\">\n        <p id=\"3dmolwarning_17395345710277288\" style=\"background-color:#ffcccc;color:black\">3Dmol.js failed to load for some reason.  Please check your browser console for error messages.<br></p>\n        </div>\n<script>\n\nvar loadScriptAsync = function(uri){\n  return new Promise((resolve, reject) => {\n    //this is to ignore the existence of requirejs amd\n    var savedexports, savedmodule;\n    if (typeof exports !== 'undefined') savedexports = exports;\n    else exports = {}\n    if (typeof module !== 'undefined') savedmodule = module;\n    else module = {}\n\n    var tag = document.createElement('script');\n    tag.src = uri;\n    tag.async = true;\n    tag.onload = () => {\n        exports = savedexports;\n        module = savedmodule;\n        resolve();\n    };\n  var firstScriptTag = document.getElementsByTagName('script')[0];\n  firstScriptTag.parentNode.insertBefore(tag, firstScriptTag);\n});\n};\n\nif(typeof $3Dmolpromise === 'undefined') {\n$3Dmolpromise = null;\n  $3Dmolpromise = loadScriptAsync('https://cdnjs.cloudflare.com/ajax/libs/3Dmol/2.4.2/3Dmol-min.js');\n}\n\nvar viewer_17395345710277288 = null;\nvar warn = document.getElementById(\"3dmolwarning_17395345710277288\");\nif(warn) {\n    warn.parentNode.removeChild(warn);\n}\n$3Dmolpromise.then(function() {\nviewer_17395345710277288 = $3Dmol.createViewer(document.getElementById(\"3dmolviewer_17395345710277288\"),{backgroundColor:\"white\"});\nviewer_17395345710277288.zoomTo();\n\tviewer_17395345710277288.addModel(\"22\\nConverted from PDB\\nH 3.225 27.427 2.566\\nC 3.720 26.570 2.110\\nH 4.088 25.905 2.891\\nH 4.557 26.914 1.502\\nC 2.770 25.800 1.230\\nO 1.600 26.150 1.090\\nN 3.270 24.640 0.690\\nH 4.259 24.471 0.810\\nC 2.480 23.690 -0.190\\nH 1.733 24.315 -0.679\\nC 3.470 23.160 -1.270\\nH 4.219 22.525 -0.797\\nH 2.922 22.582 -2.014\\nH 3.963 24.002 -1.756\\nC 1.730 22.590 0.490\\nO 2.340 21.880 1.280\\nN 0.400 22.430 0.210\\nH -0.008 23.118 -0.407\\nC -0.470 21.350 0.730\\nH 0.112 20.693 1.376\\nH -1.290 21.786 1.300\\nH -0.873 20.775 -0.103\",\"xyz\");\n\tviewer_17395345710277288.setStyle({\"model\": 0},{\"stick\": {\"colorscheme\": {\"C\": \"#009D78\", \"O\": \"#FF180C\", \"N\": \"#2757DB\", \"H\": \"#CCCCCC\"}, \"radius\": 0.2, \"opacity\": 0.6}, \"sphere\": {\"radius\": 0.4, \"colorscheme\": {\"C\": \"#009D78\", \"O\": \"#FF180C\", \"N\": \"#2757DB\", \"H\": \"#CCCCCC\"}, \"opacity\": 0.6}});\n\tviewer_17395345710277288.addModel(\"22\\nConverted from PDB\\nH 3.225 27.427 2.566\\nC 3.720 26.570 2.110\\nH 4.088 25.905 2.891\\nH 4.557 26.914 1.502\\nC 2.770 25.800 1.230\\nO 1.600 26.150 1.090\\nN 3.270 24.640 0.690\\nH 3.346 24.429 1.675\\nC 2.480 23.690 -0.190\\nH 3.002 23.693 -1.147\\nC 2.618 22.276 0.449\\nH 2.093 22.255 1.404\\nH 2.187 21.531 -0.219\\nH 3.673 22.051 0.611\\nC 1.059 24.050 -0.484\\nO 0.325 24.315 0.460\\nN 0.644 24.078 -1.788\\nH 1.357 23.906 -2.483\\nC -0.739 24.335 -2.251\\nH -1.386 24.500 -1.389\\nH -0.751 25.218 -2.889\\nH -1.100 23.475 -2.815\",\"xyz\");\n\tviewer_17395345710277288.setStyle({\"model\": 1},{\"stick\": {\"colorscheme\": {\"C\": \"#009D78\", \"O\": \"#FF180C\", \"N\": \"#2757DB\", \"H\": \"#CCCCCC\"}, \"radius\": 0.2, \"opacity\": 0.9}, \"sphere\": {\"radius\": 0.4, \"colorscheme\": {\"C\": \"#009D78\", \"O\": \"#FF180C\", \"N\": \"#2757DB\", \"H\": \"#CCCCCC\"}, \"opacity\": 0.9}});\n\tviewer_17395345710277288.zoomTo();\nviewer_17395345710277288.render();\n});\n</script>",
      "text/html": [
       "<div id=\"3dmolviewer_17395345710277288\"  style=\"position: relative; width: 800px; height: 400px;\">\n",
       "        <p id=\"3dmolwarning_17395345710277288\" style=\"background-color:#ffcccc;color:black\">3Dmol.js failed to load for some reason.  Please check your browser console for error messages.<br></p>\n",
       "        </div>\n",
       "<script>\n",
       "\n",
       "var loadScriptAsync = function(uri){\n",
       "  return new Promise((resolve, reject) => {\n",
       "    //this is to ignore the existence of requirejs amd\n",
       "    var savedexports, savedmodule;\n",
       "    if (typeof exports !== 'undefined') savedexports = exports;\n",
       "    else exports = {}\n",
       "    if (typeof module !== 'undefined') savedmodule = module;\n",
       "    else module = {}\n",
       "\n",
       "    var tag = document.createElement('script');\n",
       "    tag.src = uri;\n",
       "    tag.async = true;\n",
       "    tag.onload = () => {\n",
       "        exports = savedexports;\n",
       "        module = savedmodule;\n",
       "        resolve();\n",
       "    };\n",
       "  var firstScriptTag = document.getElementsByTagName('script')[0];\n",
       "  firstScriptTag.parentNode.insertBefore(tag, firstScriptTag);\n",
       "});\n",
       "};\n",
       "\n",
       "if(typeof $3Dmolpromise === 'undefined') {\n",
       "$3Dmolpromise = null;\n",
       "  $3Dmolpromise = loadScriptAsync('https://cdnjs.cloudflare.com/ajax/libs/3Dmol/2.4.2/3Dmol-min.js');\n",
       "}\n",
       "\n",
       "var viewer_17395345710277288 = null;\n",
       "var warn = document.getElementById(\"3dmolwarning_17395345710277288\");\n",
       "if(warn) {\n",
       "    warn.parentNode.removeChild(warn);\n",
       "}\n",
       "$3Dmolpromise.then(function() {\n",
       "viewer_17395345710277288 = $3Dmol.createViewer(document.getElementById(\"3dmolviewer_17395345710277288\"),{backgroundColor:\"white\"});\n",
       "viewer_17395345710277288.zoomTo();\n",
       "\tviewer_17395345710277288.addModel(\"22\\nConverted from PDB\\nH 3.225 27.427 2.566\\nC 3.720 26.570 2.110\\nH 4.088 25.905 2.891\\nH 4.557 26.914 1.502\\nC 2.770 25.800 1.230\\nO 1.600 26.150 1.090\\nN 3.270 24.640 0.690\\nH 4.259 24.471 0.810\\nC 2.480 23.690 -0.190\\nH 1.733 24.315 -0.679\\nC 3.470 23.160 -1.270\\nH 4.219 22.525 -0.797\\nH 2.922 22.582 -2.014\\nH 3.963 24.002 -1.756\\nC 1.730 22.590 0.490\\nO 2.340 21.880 1.280\\nN 0.400 22.430 0.210\\nH -0.008 23.118 -0.407\\nC -0.470 21.350 0.730\\nH 0.112 20.693 1.376\\nH -1.290 21.786 1.300\\nH -0.873 20.775 -0.103\",\"xyz\");\n",
       "\tviewer_17395345710277288.setStyle({\"model\": 0},{\"stick\": {\"colorscheme\": {\"C\": \"#009D78\", \"O\": \"#FF180C\", \"N\": \"#2757DB\", \"H\": \"#CCCCCC\"}, \"radius\": 0.2, \"opacity\": 0.6}, \"sphere\": {\"radius\": 0.4, \"colorscheme\": {\"C\": \"#009D78\", \"O\": \"#FF180C\", \"N\": \"#2757DB\", \"H\": \"#CCCCCC\"}, \"opacity\": 0.6}});\n",
       "\tviewer_17395345710277288.addModel(\"22\\nConverted from PDB\\nH 3.225 27.427 2.566\\nC 3.720 26.570 2.110\\nH 4.088 25.905 2.891\\nH 4.557 26.914 1.502\\nC 2.770 25.800 1.230\\nO 1.600 26.150 1.090\\nN 3.270 24.640 0.690\\nH 3.346 24.429 1.675\\nC 2.480 23.690 -0.190\\nH 3.002 23.693 -1.147\\nC 2.618 22.276 0.449\\nH 2.093 22.255 1.404\\nH 2.187 21.531 -0.219\\nH 3.673 22.051 0.611\\nC 1.059 24.050 -0.484\\nO 0.325 24.315 0.460\\nN 0.644 24.078 -1.788\\nH 1.357 23.906 -2.483\\nC -0.739 24.335 -2.251\\nH -1.386 24.500 -1.389\\nH -0.751 25.218 -2.889\\nH -1.100 23.475 -2.815\",\"xyz\");\n",
       "\tviewer_17395345710277288.setStyle({\"model\": 1},{\"stick\": {\"colorscheme\": {\"C\": \"#009D78\", \"O\": \"#FF180C\", \"N\": \"#2757DB\", \"H\": \"#CCCCCC\"}, \"radius\": 0.2, \"opacity\": 0.9}, \"sphere\": {\"radius\": 0.4, \"colorscheme\": {\"C\": \"#009D78\", \"O\": \"#FF180C\", \"N\": \"#2757DB\", \"H\": \"#CCCCCC\"}, \"opacity\": 0.9}});\n",
       "\tviewer_17395345710277288.zoomTo();\n",
       "viewer_17395345710277288.render();\n",
       "});\n",
       "</script>"
      ]
     },
     "metadata": {},
     "output_type": "display_data"
    }
   ],
   "source": [
    "def structure_to_pdb_string(structure):\n",
    "    \"\"\"Write a Bio.PDB structure to a string in PDB format.\"\"\"\n",
    "    pdb_io = PDBIO()\n",
    "    pdb_io.set_structure(structure)\n",
    "    string_out = io.StringIO()\n",
    "    pdb_io.save(string_out)\n",
    "    return string_out.getvalue()\n",
    "\n",
    "def pdb_to_xyz_string(pdb_text):\n",
    "    \"\"\"Convert PDB text to XYZ format string.\"\"\"\n",
    "    xyz_lines = []\n",
    "    atom_count = 0\n",
    "    \n",
    "    # Parse PDB lines\n",
    "    for line in pdb_text.split('\\n'):\n",
    "        if line.startswith('ATOM') or line.startswith('HETATM'):\n",
    "            atom_count += 1\n",
    "            atom_type = line[76:78].strip()  # Element symbol\n",
    "            if not atom_type:  # If element symbol not in columns 76-77, get from atom name\n",
    "                atom_type = line[12:16].strip()[0]\n",
    "            x = float(line[30:38])\n",
    "            y = float(line[38:46]) \n",
    "            z = float(line[46:54])\n",
    "            xyz_lines.append(f\"{atom_type} {x:.3f} {y:.3f} {z:.3f}\")\n",
    "    \n",
    "    # Construct XYZ format\n",
    "    xyz_text = f\"{atom_count}\\nConverted from PDB\\n\" + \"\\n\".join(xyz_lines)\n",
    "    return xyz_text\n",
    "\n",
    "# ---------- Main Code ----------\n",
    "\n",
    "# Load the original PDB file\n",
    "pdbfile = \"alanine_dipeptide_nowater.pdb\"\n",
    "with open(pdbfile, \"r\") as f:\n",
    "    original_pdb_text = f.read()\n",
    "\n",
    "# Parse the structure\n",
    "parser = PDBParser(QUIET=True)\n",
    "structure_orig = parser.get_structure(\"AD\", pdbfile)\n",
    "\n",
    "# Make a deep copy for modifications\n",
    "structure_mod = copy.deepcopy(structure_orig)\n",
    "\n",
    "# Set target dihedral angles\n",
    "delta_phi = 90.0\n",
    "delta_psi = 0.0\n",
    "target_phi = -90.0 + delta_phi\n",
    "target_psi = 127.81 + delta_psi\n",
    "\n",
    "# Apply modifications on the copied structure\n",
    "set_phi_dihedral(structure_mod, target_phi)\n",
    "set_psi_dihedral(structure_mod, target_psi)\n",
    "\n",
    "# Convert structures to XYZ format\n",
    "original_xyz_text = pdb_to_xyz_string(original_pdb_text)\n",
    "modified_xyz_text = pdb_to_xyz_string(structure_to_pdb_string(structure_mod))\n",
    "\n",
    "# ---------- Visualization using py3Dmol ----------\n",
    "\n",
    "# Create a viewer with two models\n",
    "view = py3Dmol.view(width=800, height=400)\n",
    "\n",
    "# Add the original structure\n",
    "view.addModel(original_xyz_text, 'xyz')\n",
    "\n",
    "color_map = {\n",
    "    \"C\": \"#009D78\",   # Carbon (Green)\n",
    "    \"O\": \"#FF180C\",   # Oxygen (Red)\n",
    "    \"N\": \"#2757DB\",   # Nitrogen (Blue)\n",
    "    \"H\": \"#CCCCCC\",   # Hydrogen (White)\n",
    "}\n",
    "\n",
    "style = \"spheressticks\"\n",
    "\n",
    "if style == \"stick\":\n",
    "    # Style the original structure \n",
    "    view.setStyle({'model': 0}, {'stick': {'colorscheme': color_map}})\n",
    "\n",
    "    # Add the modified structure as a second model\n",
    "    view.addModel(modified_xyz_text, 'xyz')\n",
    "    view.setStyle({'model': 1}, {'stick': {'colorscheme': color_map}})\n",
    "\n",
    "    # Set transparency\n",
    "    view.setStyle({'model': 0}, {'stick': {'opacity': 0.6}})\n",
    "    view.setStyle({'model': 1}, {'stick': {'opacity': 0.9}})\n",
    "\n",
    "elif style == \"spheressticks\":\n",
    "    # Style the original structure \n",
    "    view.setStyle({'model': 0}, {\n",
    "        'stick': {'colorscheme': color_map, 'radius': 0.2, 'opacity': 0.6},\n",
    "        \"sphere\": {\"radius\": 0.4, \"colorscheme\": color_map, \"opacity\": 0.6},\n",
    "    })\n",
    "\n",
    "    # Add the modified structure as a second model\n",
    "    view.addModel(modified_xyz_text, 'xyz')\n",
    "    view.setStyle({'model': 1}, {\n",
    "        'stick': {'colorscheme': color_map, 'radius': 0.2, 'opacity': 0.9},\n",
    "        \"sphere\": {\"radius\": 0.4, \"colorscheme\": color_map, \"opacity\": 0.9},\n",
    "    })\n",
    "\n",
    "else:\n",
    "    raise ValueError(\"Invalid style\")\n",
    "\n",
    "view.zoomTo()\n",
    "view.show()"
   ]
  }
 ],
 "metadata": {
  "kernelspec": {
   "display_name": "painn",
   "language": "python",
   "name": "python3"
  },
  "language_info": {
   "codemirror_mode": {
    "name": "ipython",
    "version": 3
   },
   "file_extension": ".py",
   "mimetype": "text/x-python",
   "name": "python",
   "nbconvert_exporter": "python",
   "pygments_lexer": "ipython3",
   "version": "3.10.16"
  }
 },
 "nbformat": 4,
 "nbformat_minor": 2
}
