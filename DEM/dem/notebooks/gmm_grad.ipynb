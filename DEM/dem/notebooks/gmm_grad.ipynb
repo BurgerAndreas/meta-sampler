{
 "cells": [
  {
   "cell_type": "code",
   "execution_count": 1,
   "metadata": {},
   "outputs": [],
   "source": [
    "import torch\n",
    "from dem.energies.gmm_pseudoenergy import GMMPseudoEnergy"
   ]
  },
  {
   "cell_type": "code",
   "execution_count": 2,
   "metadata": {},
   "outputs": [],
   "source": [
    "import hydra\n",
    "from omegaconf import DictConfig\n",
    "from hydra.core.global_hydra import GlobalHydra\n",
    "\n",
    "# Only initialize if not already initialized\n",
    "if not GlobalHydra().is_initialized():\n",
    "    # Initialize hydra with the same config path as train.py\n",
    "    hydra.initialize(config_path=\"../../configs\", version_base=\"1.3\")\n",
    "    # Load the experiment config for GMM with pseudo-energy\n",
    "    cfg = hydra.compose(config_name=\"train\", overrides=[\"experiment=gmm_idem_pseudo\"])\n",
    "\n",
    "# Instantiate the energy function using hydra, similar to train.py\n",
    "energy_function = hydra.utils.instantiate(cfg.energy)\n",
    "\n",
    "energy_function.gmm_potential.gmm.to(energy_function.device)"
   ]
  },
  {
   "cell_type": "code",
   "execution_count": 3,
   "metadata": {},
   "outputs": [],
   "source": [
    "x_base = torch.tensor([0.0, 0.0], device=energy_function.gmm_potential.gmm.device)\n",
    "x_batch_base = torch.tensor([[0.0, 0.0], [1.0, 1.0]], device=energy_function.gmm_potential.gmm.device)\n"
   ]
  },
  {
   "cell_type": "markdown",
   "metadata": {},
   "source": [
    "### No derivatives in pseudo-potential"
   ]
  },
  {
   "cell_type": "code",
   "execution_count": 4,
   "metadata": {},
   "outputs": [
    {
     "name": "stdout",
     "output_type": "stream",
     "text": [
      "potential: tensor(-23.3163, device='cuda:0')\n"
     ]
    }
   ],
   "source": [
    "potential_fn = lambda x: energy_function.gmm_potential(x)\n",
    "\n",
    "_x = x_base.clone()\n",
    "print(\"potential:\", potential_fn(_x))"
   ]
  },
  {
   "cell_type": "code",
   "execution_count": 5,
   "metadata": {},
   "outputs": [
    {
     "name": "stdout",
     "output_type": "stream",
     "text": [
      "grad: tensor([[-186.8610,  122.7425],\n",
      "        [-440.4272, -426.3380]], device='cuda:0')\n"
     ]
    }
   ],
   "source": [
    "# vmapped grad (as used in estimating the score DEM/dem/models/components/score_estimator.py)\n",
    "grad_fxn = torch.func.grad(potential_fn, argnums=0)\n",
    "vmapped_fxn = torch.vmap(grad_fxn, in_dims=(0), randomness=\"different\")\n",
    "\n",
    "_x_batch = x_batch_base.clone()\n",
    "print(\"grad:\", vmapped_fxn(_x_batch))"
   ]
  },
  {
   "cell_type": "markdown",
   "metadata": {},
   "source": [
    "### Forces (grad) in pseudo-potential"
   ]
  },
  {
   "cell_type": "code",
   "execution_count": 6,
   "metadata": {},
   "outputs": [
    {
     "name": "stdout",
     "output_type": "stream",
     "text": [
      "potential with grad: tensor(200.2518, device='cuda:0')\n"
     ]
    }
   ],
   "source": [
    "def potential_with_grad_fn(x): \n",
    "    energy = energy_function.gmm_potential(x)\n",
    "    forces = -torch.func.grad(energy_function.gmm_potential)(x)\n",
    "    force_magnitude = torch.norm(forces)\n",
    "    return energy + force_magnitude\n",
    "\n",
    "_x = x_base.clone()\n",
    "print(\"potential with grad:\", potential_with_grad_fn(_x))"
   ]
  },
  {
   "cell_type": "code",
   "execution_count": 7,
   "metadata": {},
   "outputs": [
    {
     "name": "stdout",
     "output_type": "stream",
     "text": [
      "grad: tensor([[1018.4152, -677.0424],\n",
      "        [ 601.0931,  581.8644]], device='cuda:0')\n"
     ]
    }
   ],
   "source": [
    "# vmapped grad (as used in estimating the score DEM/dem/models/components/score_estimator.py)\n",
    "grad_fxn_grad = torch.func.grad(potential_with_grad_fn, argnums=0)\n",
    "vmapped_fxn_grad = torch.vmap(grad_fxn_grad, in_dims=(0), randomness=\"different\")\n",
    "\n",
    "_x_batch = x_batch_base.clone()\n",
    "print(\"grad:\", vmapped_fxn_grad(_x_batch))"
   ]
  },
  {
   "cell_type": "markdown",
   "metadata": {},
   "source": [
    "### Forces (grad) and Hessian in pseudo-potential"
   ]
  },
  {
   "cell_type": "code",
   "execution_count": 8,
   "metadata": {},
   "outputs": [
    {
     "name": "stdout",
     "output_type": "stream",
     "text": [
      "potential with grad and hessian: tensor(2237.5999, device='cuda:0')\n"
     ]
    }
   ],
   "source": [
    "def potential_with_grad_and_hessian_fn(x):\n",
    "    energy = energy_function.gmm_potential(x)\n",
    "    grad = torch.func.grad(energy_function.gmm_potential)(x)\n",
    "    hessian = torch.func.hessian(energy_function.gmm_potential)(x)\n",
    "    return energy + torch.norm(grad) + torch.norm(hessian)\n",
    "\n",
    "_x = x_base.clone()\n",
    "print(\"potential with grad and hessian:\", potential_with_grad_and_hessian_fn(_x))"
   ]
  },
  {
   "cell_type": "code",
   "execution_count": 9,
   "metadata": {},
   "outputs": [
    {
     "name": "stdout",
     "output_type": "stream",
     "text": [
      "grad: tensor([[-1894.3495, -2516.1553],\n",
      "        [  601.0931,   581.8644]], device='cuda:0')\n"
     ]
    }
   ],
   "source": [
    "# vmapped grad (as used in estimating the score DEM/dem/models/components/score_estimator.py)\n",
    "grad_fxn_hessian = torch.func.grad(potential_with_grad_and_hessian_fn, argnums=0)\n",
    "vmapped_fxn_hessian = torch.vmap(grad_fxn_hessian, in_dims=(0), randomness=\"different\")\n",
    "\n",
    "_x_batch = x_batch_base.clone()\n",
    "print(\"grad:\", vmapped_fxn_hessian(_x_batch))"
   ]
  }
 ],
 "metadata": {
  "kernelspec": {
   "display_name": "painn",
   "language": "python",
   "name": "python3"
  },
  "language_info": {
   "codemirror_mode": {
    "name": "ipython",
    "version": 3
   },
   "file_extension": ".py",
   "mimetype": "text/x-python",
   "name": "python",
   "nbconvert_exporter": "python",
   "pygments_lexer": "ipython3",
   "version": "3.10.16"
  }
 },
 "nbformat": 4,
 "nbformat_minor": 2
}
