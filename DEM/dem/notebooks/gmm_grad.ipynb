{
 "cells": [
  {
   "cell_type": "code",
   "execution_count": null,
   "metadata": {
    "vscode": {
     "languageId": "plaintext"
    }
   },
   "outputs": [],
   "source": [
    "import torch\n",
    "from dem.energies.gmm_pseudoenergy import GMMPseudoEnergy"
   ]
  },
  {
   "cell_type": "code",
   "execution_count": null,
   "metadata": {
    "vscode": {
     "languageId": "plaintext"
    }
   },
   "outputs": [],
   "source": [
    "import hydra\n",
    "from omegaconf import DictConfig\n",
    "from hydra.core.global_hydra import GlobalHydra\n",
    "\n",
    "# Only initialize if not already initialized\n",
    "if not GlobalHydra().is_initialized():\n",
    "    # Initialize hydra with the same config path as train.py\n",
    "    hydra.initialize(config_path=\"../../configs\", version_base=\"1.3\")\n",
    "    # Load the experiment config for GMM with pseudo-energy\n",
    "    cfg = hydra.compose(config_name=\"train\", overrides=[\"experiment=gmm_idem_pseudo\"])\n",
    "\n",
    "# Instantiate the energy function using hydra, similar to train.py\n",
    "energy_function = hydra.utils.instantiate(cfg.energy)"
   ]
  },
  {
   "cell_type": "code",
   "execution_count": null,
   "metadata": {
    "vscode": {
     "languageId": "plaintext"
    }
   },
   "outputs": [],
   "source": [
    "energy_function.gmm_potential.gmm.to(energy_function.device)\n",
    "energy_function.gmm_potential(\n",
    "    torch.tensor([0.0, 0.0], device=energy_function.gmm_potential.gmm.device)\n",
    ")"
   ]
  },
  {
   "cell_type": "code",
   "execution_count": null,
   "metadata": {
    "vscode": {
     "languageId": "plaintext"
    }
   },
   "outputs": [],
   "source": [
    "def compute_grad_and_hessian(x):\n",
    "    grad = torch.func.grad(neg_log_prob)(x)\n",
    "    hessian = torch.func.hessian(neg_log_prob)(x)\n",
    "    return grad, hessian"
   ]
  }
 ],
 "metadata": {
  "language_info": {
   "name": "python"
  }
 },
 "nbformat": 4,
 "nbformat_minor": 2
}
